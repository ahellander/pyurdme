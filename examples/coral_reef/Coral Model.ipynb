{
 "metadata": {
  "name": ""
 },
 "nbformat": 3,
 "nbformat_minor": 0,
 "worksheets": [
  {
   "cells": [
    {
     "cell_type": "code",
     "collapsed": false,
     "input": [
      "import pyurdme\n",
      "from IPython.display import display, clear_output\n",
      "import time"
     ],
     "language": "python",
     "metadata": {},
     "outputs": [],
     "prompt_number": 1
    },
    {
     "cell_type": "code",
     "collapsed": false,
     "input": [
      "class CoralReef(pyurdme.URDMEModel):\n",
      "    \"\"\" Model developed by Briggs and Drawert 3/31/2014, based on a \n",
      "        non-spatial model by Briggs and Adam.\n",
      "    \"\"\"\n",
      "\n",
      "    def __init__(self, name=\"coral_reef\", D_c=1.0, D_m=1.0, version=1):\n",
      "        pyurdme.URDMEModel.__init__(self, name)\n",
      "\n",
      "        # Species\n",
      "        Coral = pyurdme.Species(name=\"Coral\",diffusion_constant=0.0)\n",
      "        Coral_m = pyurdme.Species(name=\"Coral_m\",diffusion_constant=D_c)\n",
      "        MA = pyurdme.Species(name=\"MA\", diffusion_constant=0.0)\n",
      "        MA_m = pyurdme.Species(name=\"MA_m\", diffusion_constant=D_m)\n",
      "        Turf = pyurdme.Species(name=\"Turf\", diffusion_constant=0.0)\n",
      "        self.addSpecies([Coral, MA, Coral_m, MA_m, Turf])\n",
      "\n",
      "        # Parameters\n",
      "        phi_c = pyurdme.Parameter(name=\"phi_c\", expression=0.0011) #1/year\n",
      "        phi_m = pyurdme.Parameter(name=\"phi_m\", expression=0.001) #1/year\n",
      "        g_tc = pyurdme.Parameter(name=\"g_tc\", expression=0.1) #1/year\n",
      "        g_tm = pyurdme.Parameter(name=\"g_tm\", expression=0.2) #1/year\n",
      "        Gamma = pyurdme.Parameter(name=\"Gamma\", expression=0.05)\n",
      "        dc = pyurdme.Parameter(name=\"dc\", expression=0.05) #1/year\n",
      "        dm = pyurdme.Parameter(name=\"dm\", expression=1.0) #1/year\n",
      "        #dm = pyurdme.Parameter(name=\"dm\", expression=0.2) #1/year\n",
      "        phi_g = pyurdme.Parameter(name=\"psi_g\", expression=0.0)\n",
      "        # Death rate of mobile propgules.  Combine with diffusion to determine spread.\n",
      "        mu_c = pyurdme.Parameter(name=\"mu_c\", expression=1.0) #1/year\n",
      "        mu_m = pyurdme.Parameter(name=\"mu_m\", expression=1.0) #1/year\n",
      "        # mobile propogules destroyed by estabilished \n",
      "        alpha_c = pyurdme.Parameter(name=\"alpha_c\", expression=0.1) #1/year\n",
      "        alpha_m = pyurdme.Parameter(name=\"alpha_m\", expression=0.5) #1/year\n",
      "        # Production of mobile propogules\n",
      "        R_c = pyurdme.Parameter(name=\"R_c\", expression=1.0) #1/year\n",
      "        R_m = pyurdme.Parameter(name=\"R_m\", expression=1.0) #1/year\n",
      "\n",
      "        self.addParameter([phi_c, phi_m, g_tc, g_tm, Gamma, dc, dm, phi_g, mu_c, mu_m, alpha_c, alpha_m, R_c, R_m])\n",
      "                \n",
      "\n",
      "        # Reactions:\n",
      "        # C -> T : dc\n",
      "        self.addReaction(pyurdme.Reaction(name=\"R3\", reactants={Coral:1}, products={Turf:1}, rate=dc))\n",
      "        # MA -> T : dm\n",
      "        self.addReaction(pyurdme.Reaction(name=\"R4\", reactants={MA:1}, products={Turf:1}, rate=dm))\n",
      "        # T + C_m -> C : phi_c\n",
      "        self.addReaction(pyurdme.Reaction(name=\"R5\", reactants={Turf:1, Coral_m:1}, products={Coral:1}, rate=phi_c))\n",
      "        # T + MA_m -> MA : phi_m\n",
      "        self.addReaction(pyurdme.Reaction(name=\"R6\", reactants={Turf:1, MA_m:1}, products={MA:1}, rate=phi_m))\n",
      "        # C + T -> 2C : g_tc * exp(-1.0 * psi_g * MA / 100)\n",
      "        self.addReaction(pyurdme.Reaction(name=\"R7\", reactants={Turf:1, Coral:1}, products={Coral:2}, propensity_function=\"g_tc*Turf*Coral*exp(-1.0 * psi_g * MA / Space_per_voxel)/vol\"))\n",
      "        # MA + T -> 2MA : g_tm\n",
      "        self.addReaction(pyurdme.Reaction(name=\"R8\", reactants={Turf:1, MA:1}, products={MA:2}, rate=g_tm))\n",
      "        # C + MA -> 2MA : Gamma * g_tm\n",
      "        self.addReaction(pyurdme.Reaction(name=\"R9\", reactants={Coral:1, MA:1}, products={MA:2}, propensity_function=\"g_tm*Gamma*Coral*MA/vol\"))\n",
      "        # C -> C + C_m : R_c\n",
      "        self.addReaction(pyurdme.Reaction(name=\"R10\", reactants={Coral:1}, products={Coral:1, Coral_m:1}, rate=R_c))\n",
      "        # MA -> MA + MA_m : R_m\n",
      "        self.addReaction(pyurdme.Reaction(name=\"R11\", reactants={MA:1}, products={MA:1, MA_m:1}, rate=R_m))\n",
      "        # C_m -> 0 : mu_c\n",
      "        self.addReaction(pyurdme.Reaction(name=\"R12\", reactants={Coral_m:1}, products={}, rate=mu_c))\n",
      "        # MA_m -> 0 : mu_m\n",
      "        self.addReaction(pyurdme.Reaction(name=\"R13\", reactants={MA_m:1},  products={}, rate=mu_m))\n",
      "        # MA + C_m -> MA : alpha_c\n",
      "        self.addReaction(pyurdme.Reaction(name=\"R14\", reactants={MA:1, Coral_m:1},  products={MA:1}, rate=alpha_c))\n",
      "        # C + MA_m -> C : alpha_m\n",
      "        self.addReaction(pyurdme.Reaction(name=\"R15\", reactants={Coral:1, MA_m:1},  products={Coral:1}, rate=alpha_m))\n",
      " \n",
      "        \n",
      "\n",
      "        # A unit square\n",
      "        # each grid point is 10cm x 10cm, domain is 5m x 5m\n",
      "        self.mesh = pyurdme.URDMEMesh.SquareMesh(L=5, nx=50, ny=50, periodic=True)\n",
      "\n",
      "        # Place the A molecules in the voxel nearest the center of the square\n",
      "        #self.placeNear({Coral:100}, point=[10,10])\n",
      "        \n",
      "        Space_per_voxel = 10\n",
      "        self.addParameter(pyurdme.Parameter(name=\"Space_per_voxel\", expression=Space_per_voxel)) #1/year\n",
      "        \n",
      "                          \n",
      "        if True:\n",
      "            # Start with two colonys\n",
      "            self.distributeUniformly({Turf:Space_per_voxel})\n",
      "            self.placeNear({Coral:Space_per_voxel}, point=[1,1])\n",
      "            self.placeNear({Turf:0}, point=[1,1])\n",
      "            self.placeNear({MA:Space_per_voxel}, point=[4,4])\n",
      "            self.placeNear({Turf:0}, point=[4,4])\n",
      "        else:\n",
      "            # Every voxel is the same\n",
      "            self.distributeUniformly({Turf:0})\n",
      "            self.distributeUniformly({Coral:Space_per_voxel-1})\n",
      "            self.distributeUniformly({MA:1})\n",
      "\n",
      "\n",
      "        for vndx in range(self.u0.shape[1]):\n",
      "            tot = 0\n",
      "            for sndx, sname in enumerate(self.listOfSpecies):\n",
      "                tot += self.u0[sndx][vndx]\n",
      "            if tot > 100:\n",
      "                for sndx, sname in enumerate(self.listOfSpecies):\n",
      "                    print \"u0[{0}][{1}] = {2}\".format(sname, vndx, self.u0[sndx][vndx])\n",
      "\n",
      "        #self.timespan(numpy.linspace(0,500,501)) #500 years\n",
      "        #self.timespan(numpy.linspace(0,5,72)) #5 years, by months\n",
      "        self.timespan(numpy.linspace(0,11,66)) #10 years, by 2 months"
     ],
     "language": "python",
     "metadata": {},
     "outputs": [],
     "prompt_number": 2
    },
    {
     "cell_type": "code",
     "collapsed": false,
     "input": [
      "model = CoralReef()\n",
      "%time result = model.run()"
     ],
     "language": "python",
     "metadata": {},
     "outputs": [
      {
       "output_type": "stream",
       "stream": "stderr",
       "text": [
        "DEBUG:UFL:No integrals left after transformation, returning empty form.\n"
       ]
      },
      {
       "output_type": "stream",
       "stream": "stderr",
       "text": [
        "DEBUG:FFC:Reusing form from cache.\n"
       ]
      },
      {
       "output_type": "stream",
       "stream": "stderr",
       "text": [
        "DEBUG:UFL:No integrals left after transformation, returning empty form.\n"
       ]
      },
      {
       "output_type": "stream",
       "stream": "stderr",
       "text": [
        "DEBUG:UFL:No integrals left after transformation, returning empty form.\n"
       ]
      },
      {
       "output_type": "stream",
       "stream": "stderr",
       "text": [
        "DEBUG:FFC:Reusing form from cache.\n"
       ]
      },
      {
       "output_type": "stream",
       "stream": "stderr",
       "text": [
        "DEBUG:UFL:No integrals left after transformation, returning empty form.\n"
       ]
      },
      {
       "output_type": "stream",
       "stream": "stderr",
       "text": [
        "DEBUG:UFL:No integrals left after transformation, returning empty form.\n"
       ]
      },
      {
       "output_type": "stream",
       "stream": "stderr",
       "text": [
        "DEBUG:FFC:Reusing form from cache.\n"
       ]
      },
      {
       "output_type": "stream",
       "stream": "stderr",
       "text": [
        "DEBUG:UFL:No integrals left after transformation, returning empty form.\n"
       ]
      },
      {
       "output_type": "stream",
       "stream": "stderr",
       "text": [
        "DEBUG:UFL:No integrals left after transformation, returning empty form.\n"
       ]
      },
      {
       "output_type": "stream",
       "stream": "stderr",
       "text": [
        "DEBUG:FFC:Reusing form from cache.\n"
       ]
      },
      {
       "output_type": "stream",
       "stream": "stderr",
       "text": [
        "DEBUG:UFL:No integrals left after transformation, returning empty form.\n"
       ]
      },
      {
       "output_type": "stream",
       "stream": "stderr",
       "text": [
        "DEBUG:UFL:No integrals left after transformation, returning empty form.\n"
       ]
      },
      {
       "output_type": "stream",
       "stream": "stderr",
       "text": [
        "DEBUG:FFC:Reusing form from cache.\n"
       ]
      },
      {
       "output_type": "stream",
       "stream": "stderr",
       "text": [
        "DEBUG:UFL:No integrals left after transformation, returning empty form.\n"
       ]
      },
      {
       "output_type": "stream",
       "stream": "stderr",
       "text": [
        "DEBUG:UFL:No integrals left after transformation, returning empty form.\n"
       ]
      },
      {
       "output_type": "stream",
       "stream": "stderr",
       "text": [
        "DEBUG:FFC:Reusing form from cache.\n"
       ]
      },
      {
       "output_type": "stream",
       "stream": "stderr",
       "text": [
        "DEBUG:UFL:No integrals left after transformation, returning empty form.\n"
       ]
      },
      {
       "output_type": "stream",
       "stream": "stderr",
       "text": [
        "DEBUG:UFL:No integrals left after transformation, returning empty form.\n"
       ]
      },
      {
       "output_type": "stream",
       "stream": "stderr",
       "text": [
        "DEBUG:FFC:Reusing form from cache.\n"
       ]
      },
      {
       "output_type": "stream",
       "stream": "stderr",
       "text": [
        "DEBUG:UFL:No integrals left after transformation, returning empty form.\n"
       ]
      },
      {
       "output_type": "stream",
       "stream": "stderr",
       "text": [
        "DEBUG:UFL:No integrals left after transformation, returning empty form.\n"
       ]
      },
      {
       "output_type": "stream",
       "stream": "stderr",
       "text": [
        "DEBUG:FFC:Reusing form from cache.\n"
       ]
      },
      {
       "output_type": "stream",
       "stream": "stderr",
       "text": [
        "DEBUG:UFL:No integrals left after transformation, returning empty form.\n"
       ]
      },
      {
       "output_type": "stream",
       "stream": "stderr",
       "text": [
        "DEBUG:UFL:No integrals left after transformation, returning empty form.\n"
       ]
      },
      {
       "output_type": "stream",
       "stream": "stderr",
       "text": [
        "DEBUG:FFC:Reusing form from cache.\n"
       ]
      },
      {
       "output_type": "stream",
       "stream": "stderr",
       "text": [
        "DEBUG:UFL:No integrals left after transformation, returning empty form.\n"
       ]
      },
      {
       "output_type": "stream",
       "stream": "stderr",
       "text": [
        "DEBUG:UFL:No integrals left after transformation, returning empty form.\n"
       ]
      },
      {
       "output_type": "stream",
       "stream": "stderr",
       "text": [
        "DEBUG:FFC:Reusing form from cache.\n"
       ]
      },
      {
       "output_type": "stream",
       "stream": "stderr",
       "text": [
        "DEBUG:UFL:No integrals left after transformation, returning empty form.\n"
       ]
      },
      {
       "output_type": "stream",
       "stream": "stderr",
       "text": [
        "DEBUG:UFL:No integrals left after transformation, returning empty form.\n"
       ]
      },
      {
       "output_type": "stream",
       "stream": "stderr",
       "text": [
        "DEBUG:FFC:Reusing form from cache.\n"
       ]
      },
      {
       "output_type": "stream",
       "stream": "stderr",
       "text": [
        "DEBUG:UFL:No integrals left after transformation, returning empty form.\n"
       ]
      },
      {
       "output_type": "stream",
       "stream": "stderr",
       "text": [
        "DEBUG:UFL:No integrals left after transformation, returning empty form.\n"
       ]
      },
      {
       "output_type": "stream",
       "stream": "stderr",
       "text": [
        "DEBUG:FFC:Reusing form from cache.\n"
       ]
      },
      {
       "output_type": "stream",
       "stream": "stdout",
       "text": [
        "CPU times: user 11.7 s, sys: 70.1 ms, total: 11.8 s\n",
        "Wall time: 18.7 s\n"
       ]
      }
     ],
     "prompt_number": 3
    },
    {
     "cell_type": "code",
     "collapsed": false,
     "input": [
      "x_vals = model.mesh.coordinates()[:, 0]\n",
      "y_vals = model.mesh.coordinates()[:, 1]\n",
      "C_vals = result.getSpecies(\"Coral\")\n",
      "MA_vals = result.getSpecies(\"MA\")\n",
      "Turf_vals = result.getSpecies(\"Turf\")\n",
      "num_vox = len(x_vals)"
     ],
     "language": "python",
     "metadata": {},
     "outputs": [],
     "prompt_number": 5
    },
    {
     "cell_type": "code",
     "collapsed": false,
     "input": [
      "#heatmap\n",
      "plt.figure(figsize=(12,6), dpi=100)\n",
      "plt.figure(1)\n",
      "for tndx, tval in enumerate(model.tspan):\n",
      "    plt.figure(figsize=(12,4), dpi=100)\n",
      "    plt.subplot(1,3,1)\n",
      "    heatmap, xedges, yedges = np.histogram2d(x=x_vals, y=y_vals, weights=C_vals[tndx,:], bins=int(sqrt(num_vox)))\n",
      "    plt.imshow(heatmap)\n",
      "    cb = plt.colorbar()\n",
      "    cb.set_label('Coral population')\n",
      "    plt.title('t={0}'.format(tval))\n",
      "    plt.subplot(1,3,2)\n",
      "    heatmap, xedges, yedges = np.histogram2d(x=x_vals, y=y_vals, weights=MA_vals[tndx,:], bins=int(sqrt(num_vox)))\n",
      "    plt.imshow(heatmap)\n",
      "    cb = plt.colorbar()\n",
      "    cb.set_label('MA population')\n",
      "    plt.title('t={0}'.format(tval))\n",
      "    plt.subplot(1,3,3)\n",
      "    heatmap, xedges, yedges = np.histogram2d(x=x_vals, y=y_vals, weights=Turf_vals[tndx,:], bins=int(sqrt(num_vox)))\n",
      "    plt.imshow(heatmap)\n",
      "    cb = plt.colorbar()\n",
      "    cb.set_label('Free Turf')\n",
      "    plt.title('t={0}'.format(tval))\n",
      "    clear_output()\n",
      "    plt.show()\n",
      "    time.sleep(.01)\n"
     ],
     "language": "python",
     "metadata": {},
     "outputs": [
      {
       "metadata": {},
       "output_type": "display_data",
       "png": "[encoded data removed]",
       "text": [
        "<matplotlib.figure.Figure at 0x10e16a090>"
       ]
      }
     ],
     "prompt_number": 7
    },
    {
     "cell_type": "heading",
     "level": 2,
     "metadata": {},
     "source": [
      "Let's compare to an ODE simulation of well-mixed version of this model."
     ]
    },
    {
     "cell_type": "code",
     "collapsed": false,
     "input": [
      "from scipy.integrate import ode"
     ],
     "language": "python",
     "metadata": {},
     "outputs": [],
     "prompt_number": 37
    },
    {
     "cell_type": "code",
     "collapsed": false,
     "input": [
      "def par(name):\n",
      "    return model.listOfParameters[name].value\n",
      "def coral_ode(t, rp):\n",
      "    C = rp[0]\n",
      "    M = rp[1]\n",
      "    C_m = rp[2]\n",
      "    M_m = rp[3]\n",
      "    T = rp[4]\n",
      "    return [\n",
      "        par('phi_c')*C_m*T  + par('g_tc')*T*C - par('Gamma')*par('g_tm')*M*C - par('dc')*C ,\n",
      "        par('phi_m')*M_m*T  + par('g_tm')*T*M + par('Gamma')*par('g_tm')*M*C - par('dm')*M ,\n",
      "        par('R_c')*C - par('mu_c')*C_m  - par('alpha_c')*M*C_m,\n",
      "        par('R_m')*M - par('mu_m')*M_m  - par('alpha_m')*C*M_m,\n",
      "        par('dc')*C + par('dm')*M - par('phi_c')*C_m*T - par('phi_m')*M_m*T - par('g_tc')*T*C - par('g_tm')*T*M\n",
      "        ]\n"
     ],
     "language": "python",
     "metadata": {},
     "outputs": [],
     "prompt_number": 39
    },
    {
     "cell_type": "code",
     "collapsed": false,
     "input": [
      "solver = ode(coral_ode).set_integrator('vode', method='bdf', order=15, atol=1e-6)\n",
      "rp0 = ([99.0, 1.0, 0.0, 0.0, 0.0]) # starting function\n",
      "solver.set_initial_value(rp0, 0)\n",
      "T = 60\n",
      "dt = T/5000.\n",
      "rp = []; t = []\n",
      "while solver.successful() and solver.t <= T:\n",
      "    solver.integrate(solver.t + dt)\n",
      "    rp.append(solver.y); t.append(solver.t)\n",
      "    \n",
      "# Plotting    \n",
      "rp = np.array(rp)\n",
      "plt.figure()\n",
      "plt.plot(t, rp[:,  0], t, rp[:, 1], t, rp[:,4])\n",
      "plt.title(\"Coral & MA\")\n",
      "plt.legend(['Coral','MA','Turf'])\n"
     ],
     "language": "python",
     "metadata": {},
     "outputs": [
      {
       "metadata": {},
       "output_type": "pyout",
       "prompt_number": 41,
       "text": [
        "<matplotlib.legend.Legend at 0x11b316450>"
       ]
      },
      {
       "metadata": {},
       "output_type": "display_data",
       "png": "[encoded data removed]",
       "text": [
        "<matplotlib.figure.Figure at 0x11b3d4c10>"
       ]
      }
     ],
     "prompt_number": 41
    }
   ],
   "metadata": {}
  }
 ]
}