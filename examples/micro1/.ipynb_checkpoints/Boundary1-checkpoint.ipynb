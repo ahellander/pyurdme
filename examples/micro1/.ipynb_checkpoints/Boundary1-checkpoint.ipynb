{
 "metadata": {
  "name": ""
 },
 "nbformat": 3,
 "nbformat_minor": 0,
 "worksheets": [
  {
   "cells": [
    {
     "cell_type": "code",
     "collapsed": false,
     "input": [
      "import dolfin\n",
      "import fenics"
     ],
     "language": "python",
     "metadata": {},
     "outputs": [],
     "prompt_number": 2
    },
    {
     "cell_type": "code",
     "collapsed": false,
     "input": [
      "import pyurdme"
     ],
     "language": "python",
     "metadata": {},
     "outputs": [],
     "prompt_number": 3
    },
    {
     "cell_type": "code",
     "collapsed": false,
     "input": [
      "from pyurdme import microsolver"
     ],
     "language": "python",
     "metadata": {},
     "outputs": [],
     "prompt_number": 4
    },
    {
     "cell_type": "code",
     "collapsed": false,
     "input": [
      "import math\n",
      "import numpy\n",
      "import time\n",
      "import matplotlib.pyplot as plt"
     ],
     "language": "python",
     "metadata": {},
     "outputs": [],
     "prompt_number": 5
    },
    {
     "cell_type": "code",
     "collapsed": false,
     "input": [
      "import mshr"
     ],
     "language": "python",
     "metadata": {},
     "outputs": [],
     "prompt_number": 6
    },
    {
     "cell_type": "code",
     "collapsed": false,
     "input": [
      "%matplotlib inline"
     ],
     "language": "python",
     "metadata": {},
     "outputs": [],
     "prompt_number": 7
    },
    {
     "cell_type": "code",
     "collapsed": false,
     "input": [],
     "language": "python",
     "metadata": {},
     "outputs": [],
     "prompt_number": 9
    },
    {
     "cell_type": "code",
     "collapsed": false,
     "input": [
      "class Boundary1(pyurdme.URDMEModel):\n",
      "    \"\"\" The reversible reaction A+B<->C in 2D.  \"\"\"\n",
      "    \n",
      "    def __init__(self):\n",
      "        \n",
      "        pyurdme.URDMEModel.__init__(self,name=\"reversible\")\n",
      "\n",
      "        \n",
      "        #Parameters (normalized s.t. V=1)\n",
      "        V = 6.7181e-20\n",
      "        D = 1e-12/(V**0.66666666)\n",
      "        sigma = 1e-9/(V**0.3333333)\n",
      "        k1 = 10\n",
      "        V = 1.0\n",
      "        \n",
      "        \n",
      "        \n",
      "        \n",
      "\n",
      "        # Substrate and enzymes\n",
      "        S1 = pyurdme.Species(name=\"S1\",reaction_radius=sigma,diffusion_constant=D)\n",
      "        S2  = pyurdme.Species(name=\"S2\",reaction_radius=sigma,diffusion_constant=D)\n",
      "        self.add_species([S1,S2])\n",
      "\n",
      "        \n",
      "        # Microscopic association and disassociation rate\n",
      "        kd  = pyurdme.Parameter(name=\"kd\",expression=k1)\n",
      "        \n",
      "        # Geometry\n",
      "        sphere = mshr.Sphere(dolfin.Point(0.0, 0.0, 0.0), (3*V/(4*pi))**0.3333333)\n",
      "        print (3*V/(4*pi))**0.3333333\n",
      "        self.mesh = pyurdme.URDMEMesh(mesh=mshr.generate_mesh(sphere, 20))\n",
      "#         self.mesh = pyurdme.URDMEMesh.read_mesh('torus.msh')\n",
      "\n",
      "            \n",
      "        # Reactions\n",
      "        R1 = pyurdme.Reaction(name=\"R1\",reactants={S1:1},products={S2:1},massaction=True, rate=kd)\n",
      "    \n",
      "        self.add_parameter([kd])\n",
      "        self.add_reaction([R1])\n",
      "        \n",
      "        # Distribute the molecules over the mesh\n",
      "        self.set_initial_condition_scatter({S1:100})\n",
      "        # Time span of the simulation\n",
      "        self.timespan(numpy.linspace(0,1.0,101))"
     ],
     "language": "python",
     "metadata": {},
     "outputs": [],
     "prompt_number": 17
    },
    {
     "cell_type": "code",
     "collapsed": false,
     "input": [
      "model = Boundary1()"
     ],
     "language": "python",
     "metadata": {},
     "outputs": [
      {
       "output_type": "stream",
       "stream": "stdout",
       "text": [
        "0.620350520519\n"
       ]
      }
     ],
     "prompt_number": 18
    },
    {
     "cell_type": "code",
     "collapsed": false,
     "input": [
      "solver = microsolver.MMMSSolver(model)"
     ],
     "language": "python",
     "metadata": {},
     "outputs": [],
     "prompt_number": 19
    },
    {
     "cell_type": "code",
     "collapsed": false,
     "input": [
      "output = solver.run()"
     ],
     "language": "python",
     "metadata": {},
     "outputs": [],
     "prompt_number": 20
    },
    {
     "cell_type": "code",
     "collapsed": false,
     "input": [
      "S1 = output.get_summary_statistic(0)"
     ],
     "language": "python",
     "metadata": {},
     "outputs": [],
     "prompt_number": 29
    },
    {
     "cell_type": "code",
     "collapsed": false,
     "input": [
      "print S1"
     ],
     "language": "python",
     "metadata": {},
     "outputs": [
      {
       "output_type": "stream",
       "stream": "stdout",
       "text": [
        "[100  89  76  70  62  56  54  46  42  39  36  34  33  31  27  22  20  18\n",
        "  17  15  15  15  13  11  11  11  11  11  10  10  10  10  10  10  10   9\n",
        "   9   7   6   6   4   4   4   4   4   4   4   4   4   4   4   3   3   2\n",
        "   2   2   2   2   2   2   2   2   2   2   1   1   1   1   1   1   1   1\n",
        "   0   0   0   0   0   0   0   0   0   0   0   0   0   0   0   0   0   0\n",
        "   0   0   0   0   0   0   0   0   0   0   0]\n"
       ]
      }
     ],
     "prompt_number": 30
    },
    {
     "cell_type": "code",
     "collapsed": false,
     "input": [
      "plt.plot(S1)"
     ],
     "language": "python",
     "metadata": {},
     "outputs": [
      {
       "metadata": {},
       "output_type": "pyout",
       "prompt_number": 31,
       "text": [
        "[<matplotlib.lines.Line2D at 0x7f01b5885810>]"
       ]
      },
      {
       "metadata": {},
       "output_type": "display_data",
       "png": "[encoded data removed]",
       "text": [
        "<matplotlib.figure.Figure at 0x7f01bf0d8bd0>"
       ]
      }
     ],
     "prompt_number": 31
    },
    {
     "cell_type": "code",
     "collapsed": false,
     "input": [
      "outpos = []\n",
      "numtraj=50\n",
      "for i in range(0,numtraj):\n",
      "    out = solver.run()\n",
      "    pos = out.get_particles(0,20)\n",
      "    pos = pos['positions']\n",
      "    outpos.append(pos)"
     ],
     "language": "python",
     "metadata": {},
     "outputs": [],
     "prompt_number": 32
    },
    {
     "cell_type": "code",
     "collapsed": false,
     "input": [
      "r = []\n",
      "for j in range(0,numtraj):\n",
      "    temp = outpos[j]\n",
      "    for i in range(0,len(temp)):\n",
      "        r.append(norm(temp[i]))"
     ],
     "language": "python",
     "metadata": {},
     "outputs": [],
     "prompt_number": 33
    },
    {
     "cell_type": "code",
     "collapsed": false,
     "input": [
      "print len(r)"
     ],
     "language": "python",
     "metadata": {},
     "outputs": [
      {
       "output_type": "stream",
       "stream": "stdout",
       "text": [
        "710\n"
       ]
      }
     ],
     "prompt_number": 34
    },
    {
     "cell_type": "code",
     "collapsed": false,
     "input": [
      "plt.hist(r)"
     ],
     "language": "python",
     "metadata": {},
     "outputs": [
      {
       "metadata": {},
       "output_type": "pyout",
       "prompt_number": 35,
       "text": [
        "(array([   2.,    6.,   21.,   28.,   39.,   56.,   76.,  101.,  129.,  252.]),\n",
        " array([ 0.06363788,  0.11891769,  0.17419751,  0.22947732,  0.28475713,\n",
        "        0.34003695,  0.39531676,  0.45059657,  0.50587638,  0.5611562 ,\n",
        "        0.61643601]),\n",
        " <a list of 10 Patch objects>)"
       ]
      },
      {
       "metadata": {},
       "output_type": "display_data",
       "png": "[encoded data removed]",
       "text": [
        "<matplotlib.figure.Figure at 0x7f01b587f690>"
       ]
      }
     ],
     "prompt_number": 35
    },
    {
     "cell_type": "code",
     "collapsed": false,
     "input": [],
     "language": "python",
     "metadata": {},
     "outputs": []
    }
   ],
   "metadata": {}
  }
 ]
}