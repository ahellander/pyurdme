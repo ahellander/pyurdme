{
 "metadata": {
  "name": ""
 },
 "nbformat": 3,
 "nbformat_minor": 0,
 "worksheets": [
  {
   "cells": [
    {
     "cell_type": "code",
     "collapsed": false,
     "input": [
      "import dolfin\n",
      "import fenics"
     ],
     "language": "python",
     "metadata": {},
     "outputs": [],
     "prompt_number": 1
    },
    {
     "cell_type": "code",
     "collapsed": false,
     "input": [
      "import pyurdme"
     ],
     "language": "python",
     "metadata": {},
     "outputs": [],
     "prompt_number": 2
    },
    {
     "cell_type": "code",
     "collapsed": false,
     "input": [
      "from pyurdme import microsolver"
     ],
     "language": "python",
     "metadata": {},
     "outputs": [],
     "prompt_number": 3
    },
    {
     "cell_type": "code",
     "collapsed": false,
     "input": [
      "import math\n",
      "import numpy\n",
      "import time\n",
      "import matplotlib.pyplot as plt"
     ],
     "language": "python",
     "metadata": {},
     "outputs": [],
     "prompt_number": 4
    },
    {
     "cell_type": "code",
     "collapsed": false,
     "input": [
      "import mshr"
     ],
     "language": "python",
     "metadata": {},
     "outputs": [],
     "prompt_number": 5
    },
    {
     "cell_type": "code",
     "collapsed": false,
     "input": [
      "%matplotlib inline"
     ],
     "language": "python",
     "metadata": {},
     "outputs": [],
     "prompt_number": 6
    },
    {
     "cell_type": "code",
     "collapsed": false,
     "input": [
      "def hhp_kr(h,kr,D,sigma,dim):\n",
      "    if(dim==3):\n",
      "        kr_kc = 4.0*math.pi*sigma*D*kr/(4.0*math.pi*sigma*D+kr)\n",
      "        tau_diff = 1.5164/(6*D*h)\n",
      "        tau_eff = 1.0/kr_kc\n",
      "\n",
      "    return 1.0/(tau_eff-tau_diff);\n",
      "\n",
      "def hhp_kd(h,kr,kd,D,sigma,dim):\n",
      "\n",
      "    kr_hhp = hhp_kr(h,kr,D,sigma,dim)\n",
      "    return pow(h,dim)*kd*kr_hhp/kr"
     ],
     "language": "python",
     "metadata": {},
     "outputs": [],
     "prompt_number": 7
    },
    {
     "cell_type": "code",
     "collapsed": false,
     "input": [
      "class Example2(pyurdme.URDMEModel):\n",
      "    \"\"\" The reversible reaction A+B<->C in 2D.  \"\"\"\n",
      "    \n",
      "    def __init__(self,kr):\n",
      "        \n",
      "        pyurdme.URDMEModel.__init__(self,name=\"reversible\")\n",
      "\n",
      "        \n",
      "        #Parameters (normalized s.t. V=1)\n",
      "        V = 6.7181e-20\n",
      "        D = 1e-12/(V**0.66666666)\n",
      "        sigma = 1e-9/(V**0.3333333)\n",
      "        k1 = 10\n",
      "        k2 = kr/V\n",
      "        V = 1.0\n",
      "        \n",
      "        \n",
      "        \n",
      "        \n",
      "\n",
      "        # Substrate and enzymes\n",
      "        S1 = pyurdme.Species(name=\"S1\",reaction_radius=sigma,diffusion_constant=D)\n",
      "        S11 = pyurdme.Species(name=\"S11\",reaction_radius=sigma,diffusion_constant=D)\n",
      "        S12 = pyurdme.Species(name=\"S12\",reaction_radius=sigma,diffusion_constant=D)\n",
      "        S2  = pyurdme.Species(name=\"S2\",reaction_radius=sigma,diffusion_constant=D)\n",
      "        self.add_species([S1,S11,S12,S2])\n",
      "\n",
      "        \n",
      "        # Microscopic association and disassociation rate\n",
      "        kr_micro  = pyurdme.Parameter(name=\"krm\",expression=k2)\n",
      "        kd  = pyurdme.Parameter(name=\"kd\",expression=k1)\n",
      "        \n",
      "        # Geometry\n",
      "        sphere = mshr.Sphere(dolfin.Point(0.0, 0.0, 0.0), (3*V/(4*pi))**0.3333333)\n",
      "        self.mesh = pyurdme.URDMEMesh(mesh=mshr.generate_mesh(sphere, 5))\n",
      "        #self.mesh = pyurdme.URDMEMesh.read_mesh('funny_geom2.msh')\n",
      "        \n",
      "        \n",
      "            \n",
      "        # Reactions\n",
      "        R1 = pyurdme.Reaction(name=\"R1\",reactants={S1:1},products={S11:1,S12:1},massaction=True, rate=kd)\n",
      "        R2 = pyurdme.Reaction(name=\"R2\",reactants={S11:1,S12:1},products={S2:1},massaction=True, rate=kr_micro)\n",
      "    \n",
      "        self.add_parameter([kr_micro,kd])\n",
      "        self.add_reaction([R1,R2])\n",
      "        \n",
      "        # Distribute the molecules over the mesh\n",
      "        self.set_initial_condition_scatter({S1:100})\n",
      "        # Time span of the simulation\n",
      "        self.timespan(numpy.linspace(0,1.0,101))"
     ],
     "language": "python",
     "metadata": {},
     "outputs": [],
     "prompt_number": 8
    },
    {
     "cell_type": "code",
     "collapsed": false,
     "input": [
      "tspan = numpy.linspace(0,1.0,101)\n",
      "kr = [5e-18,1e-19,1e-20,7e-21,3.5e-12,2e-21,5e-22]\n",
      "micro = []\n",
      "for i in range(1,8):\n",
      "    micro.append(numpy.loadtxt('microres'+str(i)+'.txt',delimiter=' '))\n",
      "\n",
      "\n",
      "#micro1 = numpy.loadtxt('microres1.txt',delimiter=' ')\n",
      "#micro2 = numpy.loadtxt('microres2.txt',delimiter=' ')\n",
      "#micro3 = numpy.loadtxt('microres3.txt',delimiter=' ')\n",
      "#micro4 = numpy.loadtxt('microres4.txt',delimiter=' ')\n",
      "#micro5 = numpy.loadtxt('microres5.txt',delimiter=' ')\n",
      "#micro6 = numpy.loadtxt('microres6.txt',delimiter=' ')\n",
      "#micro7 = numpy.loadtxt('microres7.txt',delimiter=' ')\n"
     ],
     "language": "python",
     "metadata": {},
     "outputs": [],
     "prompt_number": 9
    },
    {
     "cell_type": "code",
     "collapsed": false,
     "input": [],
     "language": "python",
     "metadata": {},
     "outputs": [],
     "prompt_number": 9
    },
    {
     "cell_type": "code",
     "collapsed": false,
     "input": [],
     "language": "python",
     "metadata": {},
     "outputs": [],
     "prompt_number": 9
    },
    {
     "cell_type": "code",
     "collapsed": false,
     "input": [],
     "language": "python",
     "metadata": {},
     "outputs": [],
     "prompt_number": 9
    },
    {
     "cell_type": "code",
     "collapsed": false,
     "input": [],
     "language": "python",
     "metadata": {},
     "outputs": [],
     "prompt_number": 9
    },
    {
     "cell_type": "code",
     "collapsed": false,
     "input": [
      "#solver._write_mesh_file(\"spheremesh.h5\")\n",
      "#solver.serialize(\"urdmeinputesphere.mat\")"
     ],
     "language": "python",
     "metadata": {},
     "outputs": [],
     "prompt_number": 10
    },
    {
     "cell_type": "code",
     "collapsed": false,
     "input": [
      "kindex = 2\n",
      "num_traj = 30\n",
      "\n",
      "nspecies = 4\n",
      "\n",
      "model = Example2(kr=kr[kindex])\n",
      "solver = microsolver.MMMSSolver(model)\n",
      "\n",
      "timem1 = time.time()\n",
      "res = []\n",
      "Sout = []\n",
      "for i in range(0,num_traj):\n",
      "    temp = solver.run()\n",
      "    if(i==0):\n",
      "        for j in range(0,nspecies):\n",
      "            Sout.append(temp.get_summary_statistic(j))\n",
      "    else:\n",
      "        for j in range(0,nspecies):\n",
      "            Sout[j] = Sout[j]+temp.get_summary_statistic(j)\n",
      "        \n",
      "for j in range(0,nspecies):\n",
      "    Sout[j] = Sout[j]/num_traj\n",
      "        \n",
      "timem2 = time.time()\n",
      "print timem2-timem1\n",
      "\n",
      "\n",
      "plt.plot(tspan,micro[kindex])\n",
      "\n",
      "for i in range(0,4):\n",
      "    plt.plot(tspan,Sout[i],linestyle='--')"
     ],
     "language": "python",
     "metadata": {},
     "outputs": [
      {
       "output_type": "stream",
       "stream": "stdout",
       "text": [
        "224.691564083\n"
       ]
      },
      {
       "metadata": {},
       "output_type": "display_data",
       "png": "[encoded data removed]",
       "text": [
        "<matplotlib.figure.Figure at 0x7f36b2829fd0>"
       ]
      }
     ],
     "prompt_number": 13
    },
    {
     "cell_type": "code",
     "collapsed": false,
     "input": [],
     "language": "python",
     "metadata": {},
     "outputs": [],
     "prompt_number": 86
    },
    {
     "cell_type": "code",
     "collapsed": false,
     "input": [],
     "language": "python",
     "metadata": {},
     "outputs": []
    },
    {
     "cell_type": "code",
     "collapsed": false,
     "input": [],
     "language": "python",
     "metadata": {},
     "outputs": []
    },
    {
     "cell_type": "code",
     "collapsed": false,
     "input": [],
     "language": "python",
     "metadata": {},
     "outputs": [],
     "prompt_number": 8
    },
    {
     "cell_type": "code",
     "collapsed": false,
     "input": [],
     "language": "python",
     "metadata": {},
     "outputs": [],
     "prompt_number": 90
    },
    {
     "cell_type": "code",
     "collapsed": false,
     "input": [
      "temp.display_particles(['S2'],100)\n",
      "    "
     ],
     "language": "python",
     "metadata": {},
     "outputs": [
      {
       "html": [
        "<div id=\"e73cf299-228e-4bfc-a455-8b6b32d4f1a0\" class=\"cell\"></div><script>\n",
        "var x = [0.062048548966192912, 0.0089427371252374377, 0.050107346661813129, 0.11067908944987868, 0.27498826590480113, 0.24840454069177378, -0.12758815070114402, -0.2430876154496607, -0.27580115972914077, -0.066361511796947298, -0.14754493049402509, 0.18827330486501687, 0.0805260263354933, 0.032073168067600688, -0.044060012906926099, -0.0033081195794457119, -0.1946259709434475, -0.10214074079915311, -0.29446097528794002, 0.18300521796967312, 0.60455861654633136, 0.44230666688692644, 0.63106722221536904, -0.54488389660911429, -0.52687320059125886, -0.44812214710258014, -0.59417985921691263, -0.0585638043445664, -0.23945096093602861, -0.29904543297352748, -0.39192679077716697, -0.075490119643507408, 0.12914611846710911, 0.084417904382043663, 0.13274291532314994, -0.17735028631456054, 0.24712984347024086, 0.29276227620337014, 0.29139396454996286, 0.43166596451185973, 0.091217197687512908, -0.3937156047285868, -0.45875563029077626, 0.2391847008853501, 0.38253070179267801, 0.10372575573586948, 0.36443882652116616];\n",
        "var y = [0.37056772988963216, 0.38760126473433043, 0.30169613365168824, 0.30737418800975724, 0.289116995923965, 0.41738077760931369, 0.48702979024755366, 0.42291597966037786, 0.33353905636909442, 0.11790128457505389, -0.21116833602351232, 0.084518806538407154, 0.077809568961083597, 0.2473753353260616, 0.045983487329536388, 0.1871298231522015, -0.037753947491448614, -0.032145428899230721, 0.027546415001663882, -0.13252943536174283, 0.47827951675914326, 0.14942446541642174, 0.085568415700502665, -0.13447873968917395, -0.0011268837448360491, -0.2894914305705954, -0.3922734822509335, -0.34134095613608972, -0.32984981797416696, -0.25436210018924427, -0.12342748393282732, -0.016259172886848805, -0.041779207958075326, -0.24579054905350189, -0.18543686575369811, -0.48769385399089132, -0.6192920349378398, 0.031176870008737589, 0.016784685369660934, 0.063060251019680158, -0.20204943705771683, -0.47090295986110969, -0.30810155011807627, 0.03021788741726017, -0.037964269674643336, -0.076795890687060886, 0.012015105572130924];\n",
        "var z = [-0.03963984970668194, -0.025740998669138648, 0.13258101670538797, 0.22829413000051235, 0.32133140892503487, 0.4370659167312887, 0.19924547892834868, 0.10448230999204453, 0.33717777592308529, -0.097130291084387005, -0.06808324182236361, -0.19121382522893446, -0.45464390035221158, -0.58465931451344255, 0.5478164971134919, 0.47669791106121218, 0.42828214836219103, 0.68513516671102437, 0.80719892639344681, 0.69749273633419373, 0.024199799424775792, 0.099045642242782117, -0.11040721287721428, -0.25221381135475207, -0.002798430027303192, 0.25523906101227745, 0.25060196920086242, 0.12888479628073637, 0.27562936405083766, 0.3863678375686932, -0.61018364683572823, -0.69364120897116077, -0.69041105678651016, -0.4707465448483138, -0.44632374738174374, -0.7197634349248514, -0.93967186884656551, -0.6654472298009676, -0.75476761097265244, -0.76068623531724555, 0.38276328768208034, 0.41760056789063804, 0.45795641358032535, 0.1383758368759001, 0.024151134805963495, 0.20331216769654117, 0.13124415882849094];\n",
        "var c = ['red', 'red', 'red', 'red', 'red', 'red', 'red', 'red', 'red', 'red', 'red', 'red', 'red', 'red', 'red', 'red', 'red', 'red', 'red', 'red', 'red', 'red', 'red', 'red', 'red', 'red', 'red', 'red', 'red', 'red', 'red', 'red', 'red', 'red', 'red', 'red', 'red', 'red', 'red', 'red', 'red', 'red', 'red', 'red', 'red', 'red', 'red'];\n",
        "var radius = [0.01, 0.01, 0.01, 0.01, 0.01, 0.01, 0.01, 0.01, 0.01, 0.01, 0.01, 0.01, 0.01, 0.01, 0.01, 0.01, 0.01, 0.01, 0.01, 0.01, 0.01, 0.01, 0.01, 0.01, 0.01, 0.01, 0.01, 0.01, 0.01, 0.01, 0.01, 0.01, 0.01, 0.01, 0.01, 0.01, 0.01, 0.01, 0.01, 0.01, 0.01, 0.01, 0.01, 0.01, 0.01, 0.01, 0.01];\n",
        "renderParticles( \"e73cf299-228e-4bfc-a455-8b6b32d4f1a0\",x,y,z,c,radius, 500)\n",
        "</script>\n"
       ],
       "metadata": {},
       "output_type": "display_data",
       "text": [
        "<IPython.core.display.HTML at 0x7f36b2909bd0>"
       ]
      }
     ],
     "prompt_number": 15
    },
    {
     "cell_type": "code",
     "collapsed": false,
     "input": [],
     "language": "python",
     "metadata": {},
     "outputs": [],
     "prompt_number": 8
    },
    {
     "cell_type": "code",
     "collapsed": false,
     "input": [
      "from numpy.linalg import norm"
     ],
     "language": "python",
     "metadata": {},
     "outputs": [],
     "prompt_number": 16
    },
    {
     "cell_type": "code",
     "collapsed": false,
     "input": [
      "p = temp.get_particles(3,100)\n",
      "pos = p['positions']\n",
      "r = []\n",
      "for i in range(0,len(pos)):\n",
      "    r.append(norm(pos[i]))"
     ],
     "language": "python",
     "metadata": {},
     "outputs": [],
     "prompt_number": 21
    },
    {
     "cell_type": "code",
     "collapsed": false,
     "input": [
      "max(r)"
     ],
     "language": "python",
     "metadata": {},
     "outputs": [
      {
       "metadata": {},
       "output_type": "pyout",
       "prompt_number": 24,
       "text": [
        "0.62349674825083023"
       ]
      }
     ],
     "prompt_number": 24
    },
    {
     "cell_type": "code",
     "collapsed": false,
     "input": [],
     "language": "python",
     "metadata": {},
     "outputs": []
    }
   ],
   "metadata": {}
  }
 ]
}