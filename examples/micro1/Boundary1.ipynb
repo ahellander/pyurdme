{
 "metadata": {
  "name": ""
 },
 "nbformat": 3,
 "nbformat_minor": 0,
 "worksheets": [
  {
   "cells": [
    {
     "cell_type": "code",
     "collapsed": false,
     "input": [
      "import dolfin\n",
      "import fenics"
     ],
     "language": "python",
     "metadata": {},
     "outputs": [],
     "prompt_number": 1
    },
    {
     "cell_type": "code",
     "collapsed": false,
     "input": [
      "import pyurdme"
     ],
     "language": "python",
     "metadata": {},
     "outputs": [],
     "prompt_number": 2
    },
    {
     "cell_type": "code",
     "collapsed": false,
     "input": [
      "from pyurdme import microsolver"
     ],
     "language": "python",
     "metadata": {},
     "outputs": [],
     "prompt_number": 3
    },
    {
     "cell_type": "code",
     "collapsed": false,
     "input": [
      "import math\n",
      "import numpy\n",
      "import time\n",
      "import matplotlib.pyplot as plt"
     ],
     "language": "python",
     "metadata": {},
     "outputs": [],
     "prompt_number": 4
    },
    {
     "cell_type": "code",
     "collapsed": false,
     "input": [
      "import mshr"
     ],
     "language": "python",
     "metadata": {},
     "outputs": [],
     "prompt_number": 5
    },
    {
     "cell_type": "code",
     "collapsed": false,
     "input": [
      "%matplotlib inline"
     ],
     "language": "python",
     "metadata": {},
     "outputs": [],
     "prompt_number": 6
    },
    {
     "cell_type": "code",
     "collapsed": false,
     "input": [],
     "language": "python",
     "metadata": {},
     "outputs": [],
     "prompt_number": 6
    },
    {
     "cell_type": "code",
     "collapsed": false,
     "input": [
      "class Boundary1(pyurdme.URDMEModel):\n",
      "    \"\"\" The reversible reaction A+B<->C in 2D.  \"\"\"\n",
      "    \n",
      "    def __init__(self):\n",
      "        \n",
      "        pyurdme.URDMEModel.__init__(self,name=\"reversible\")\n",
      "\n",
      "        \n",
      "        #Parameters (normalized s.t. V=1)\n",
      "        V = 6.7181e-20\n",
      "        D = 1e-12/(V**0.66666666)\n",
      "        sigma = 1e-9/(V**0.3333333)\n",
      "        k1 = 100\n",
      "        V = 1.0\n",
      "        \n",
      "        \n",
      "        \n",
      "        \n",
      "\n",
      "        # Substrate and enzymes\n",
      "        S1 = pyurdme.Species(name=\"S1\",reaction_radius=sigma,diffusion_constant=D)\n",
      "        S2  = pyurdme.Species(name=\"S2\",reaction_radius=sigma,diffusion_constant=0.0)\n",
      "        self.add_species([S1,S2])\n",
      "\n",
      "        \n",
      "        # Microscopic association and disassociation rate\n",
      "        kd  = pyurdme.Parameter(name=\"kd\",expression=k1)\n",
      "        \n",
      "        # Geometry\n",
      "        sphere = mshr.Sphere(dolfin.Point(0.0, 0.0, 0.0), (3*V/(4*pi))**0.3333333)\n",
      "        print (3*V/(4*pi))**0.3333333\n",
      "        self.mesh = pyurdme.URDMEMesh(mesh=mshr.generate_mesh(sphere, 20))\n",
      "#         self.mesh = pyurdme.URDMEMesh.read_mesh('torus.msh')\n",
      "\n",
      "            \n",
      "        # Reactions\n",
      "        R1 = pyurdme.Reaction(name=\"R1\",reactants={S1:1},products={S2:1},massaction=True, rate=kd)\n",
      "    \n",
      "        self.add_parameter([kd])\n",
      "        self.add_reaction([R1])\n",
      "        \n",
      "        # Distribute the molecules over the mesh\n",
      "        self.set_initial_condition_scatter({S1:100})\n",
      "        # Time span of the simulation\n",
      "        self.timespan(numpy.linspace(0,0.15,51))"
     ],
     "language": "python",
     "metadata": {},
     "outputs": [],
     "prompt_number": 7
    },
    {
     "cell_type": "code",
     "collapsed": false,
     "input": [
      "model = Boundary1()"
     ],
     "language": "python",
     "metadata": {},
     "outputs": [
      {
       "output_type": "stream",
       "stream": "stdout",
       "text": [
        "0.620350520519\n"
       ]
      }
     ],
     "prompt_number": 8
    },
    {
     "cell_type": "code",
     "collapsed": false,
     "input": [
      "solver = microsolver.MMMSSolver(model)"
     ],
     "language": "python",
     "metadata": {},
     "outputs": [],
     "prompt_number": 9
    },
    {
     "cell_type": "code",
     "collapsed": false,
     "input": [
      "output = solver.run()"
     ],
     "language": "python",
     "metadata": {},
     "outputs": [],
     "prompt_number": 10
    },
    {
     "cell_type": "code",
     "collapsed": false,
     "input": [
      "S1 = output.get_summary_statistic(1)"
     ],
     "language": "python",
     "metadata": {},
     "outputs": [],
     "prompt_number": 11
    },
    {
     "cell_type": "code",
     "collapsed": false,
     "input": [
      "output.display_particles(['S2'],5)"
     ],
     "language": "python",
     "metadata": {},
     "outputs": [
      {
       "html": [
        "<div id=\"403b5975-4e7f-46cd-9f80-53be22acb570\" class=\"cell\"></div><script>\n",
        "var x = [-0.98952216192491527, 0.61289421319353909, 0.64044894811432829, -0.5051206285486689, -0.76927269452069758, 0.023198392598147127, 0.57043403788917679, -0.69004259035235105, -0.052100892774785287, 0.70932749978316978, -0.13588158212301793, 0.49091731764894125, 0.48723188684949265, 0.25661847021158968, -0.8036428122591428, 0.68578974549429805, 0.63493268373878786, 0.50862781161261617, -0.27160874900173027, -0.61537515217057681, -0.73146076589440789, -0.96014013572473411, -0.86319342058507109, 0.55623354676735648, -0.20902590575922236, 0.76885322982430915, -0.44380799490206629, 0.20009487214254879, 0.32216640261797497, -0.28172666838177929, 0.85415309643688975];\n",
        "var y = [0.38052101015800233, 0.14204637984282342, 0.38663856507327587, -0.29753911746962547, -0.46898040669907493, 0.22740595689802814, 0.63255738922406657, -0.61467352397486885, -0.18048200627777372, -0.65814544396410968, 0.52975600537731871, 0.36391096558637404, -0.44900078621069195, 0.65448177375315053, -0.73520397550287875, -0.16465651583157631, -0.064844732670026106, 0.21773250457640284, 0.28456206623967129, 0.45907045910306976, -0.53768319741429038, 0.42608085315833588, 0.50880138364167704, 0.3646891578207615, -0.85533102372517922, -0.62060460732835021, -0.092209159529009196, 0.42278830669467948, 0.087903798196137389, 0.089971183436504731, -0.4395632621828256];\n",
        "var z = [0.14512355700210766, 0.26059785482473147, -0.11476638410696291, 0.82218926639071943, -0.46909941196389127, 0.69721801388979221, -0.17263036901453369, -0.28019272176596277, 0.21775786969886315, -0.17138118697583846, -0.584399076128572, 0.39343292739424118, 0.21548344197370375, -0.48334269398145768, 0.72312824922979924, -0.51179249128731774, -0.4446472647226658, -0.6232437989695413, 0.012905027763355947, -0.48359690789040499, 0.37414487913601568, 0.046126579861902384, 0.3561449422954851, 0.04249726425550035, 0.40662189941827009, 0.37461350367583957, -0.87094041436395975, 0.89925943294188515, -0.66283233619532567, -0.082083486985175591, -0.032296165400603816];\n",
        "var c = ['red', 'red', 'red', 'red', 'red', 'red', 'red', 'red', 'red', 'red', 'red', 'red', 'red', 'red', 'red', 'red', 'red', 'red', 'red', 'red', 'red', 'red', 'red', 'red', 'red', 'red', 'red', 'red', 'red', 'red', 'red'];\n",
        "var radius = [0.01, 0.01, 0.01, 0.01, 0.01, 0.01, 0.01, 0.01, 0.01, 0.01, 0.01, 0.01, 0.01, 0.01, 0.01, 0.01, 0.01, 0.01, 0.01, 0.01, 0.01, 0.01, 0.01, 0.01, 0.01, 0.01, 0.01, 0.01, 0.01, 0.01, 0.01];\n",
        "renderParticles( \"403b5975-4e7f-46cd-9f80-53be22acb570\",x,y,z,c,radius, 500)\n",
        "</script>\n"
       ],
       "metadata": {},
       "output_type": "display_data",
       "text": [
        "<IPython.core.display.HTML at 0x7f4c05673990>"
       ]
      }
     ],
     "prompt_number": 14
    },
    {
     "cell_type": "code",
     "collapsed": false,
     "input": [
      "plt.plot(S1)"
     ],
     "language": "python",
     "metadata": {},
     "outputs": [
      {
       "metadata": {},
       "output_type": "pyout",
       "prompt_number": 13,
       "text": [
        "[<matplotlib.lines.Line2D at 0x7f38e5c09a10>]"
       ]
      },
      {
       "metadata": {},
       "output_type": "display_data",
       "png": "[encoded data removed]",
       "text": [
        "<matplotlib.figure.Figure at 0x7f38dde9d490>"
       ]
      }
     ],
     "prompt_number": 13
    },
    {
     "cell_type": "code",
     "collapsed": false,
     "input": [
      "outpos = []\n",
      "numtraj=200\n",
      "for i in range(0,numtraj):\n",
      "    out = solver.run()\n",
      "    pos = out.get_particles(0,50)\n",
      "    pos = pos['positions']\n",
      "    outpos.append(pos)"
     ],
     "language": "python",
     "metadata": {},
     "outputs": [],
     "prompt_number": 15
    },
    {
     "cell_type": "code",
     "collapsed": false,
     "input": [
      "r = []\n",
      "for j in range(0,numtraj):\n",
      "    temp = outpos[j]\n",
      "    for i in range(0,len(temp)):\n",
      "        r.append(norm(temp[i]))"
     ],
     "language": "python",
     "metadata": {},
     "outputs": [],
     "prompt_number": 16
    },
    {
     "cell_type": "code",
     "collapsed": false,
     "input": [
      "print max(r)"
     ],
     "language": "python",
     "metadata": {},
     "outputs": [
      {
       "output_type": "stream",
       "stream": "stdout",
       "text": [
        "0.617684077577\n"
       ]
      }
     ],
     "prompt_number": 17
    },
    {
     "cell_type": "code",
     "collapsed": false,
     "input": [
      "plt.hist(r,bins=30)"
     ],
     "language": "python",
     "metadata": {},
     "outputs": [
      {
       "metadata": {},
       "output_type": "pyout",
       "prompt_number": 18,
       "text": [
        "(array([   3.,    7.,    6.,   15.,   16.,   26.,   25.,   41.,   37.,\n",
        "         46.,   67.,   75.,   78.,   94.,  105.,  105.,  120.,  129.,\n",
        "        148.,  158.,  188.,  192.,  221.,  233.,  237.,  298.,  305.,\n",
        "        411.,  526.,  595.]),\n",
        " array([ 0.04713515,  0.06615345,  0.08517175,  0.10419004,  0.12320834,\n",
        "        0.14222664,  0.16124494,  0.18026323,  0.19928153,  0.21829983,\n",
        "        0.23731813,  0.25633642,  0.27535472,  0.29437302,  0.31339132,\n",
        "        0.33240961,  0.35142791,  0.37044621,  0.38946451,  0.4084828 ,\n",
        "        0.4275011 ,  0.4465194 ,  0.4655377 ,  0.48455599,  0.50357429,\n",
        "        0.52259259,  0.54161089,  0.56062918,  0.57964748,  0.59866578,\n",
        "        0.61768408]),\n",
        " <a list of 30 Patch objects>)"
       ]
      },
      {
       "metadata": {},
       "output_type": "display_data",
       "png": "[encoded data removed]",
       "text": [
        "<matplotlib.figure.Figure at 0x7f3ec2f14b10>"
       ]
      }
     ],
     "prompt_number": 18
    },
    {
     "cell_type": "code",
     "collapsed": false,
     "input": [
      "out.display_particles(['S2'],50)"
     ],
     "language": "python",
     "metadata": {},
     "outputs": [
      {
       "html": [
        "<div id=\"3892f072-4a06-4d13-9506-f88e91e4ce9a\" class=\"cell\"></div><script>\n",
        "var x = [0.28044467868486561, -0.66365224237787834, -0.57636503525376681, 0.6111938774378497, -0.06015822752670795, 0.8979581620482453, 0.44040445958242075, -0.32834603546899938, -0.48025251537666924, -0.27312333605543315, 0.41390882893881314, 0.080557196525032418, 0.64070092701690662, -0.68013382487847518, -0.77535836038605488, 0.82768485510323164, -0.62545732561840983, 0.77130749742293947, 0.98144770376633372, 0.25201531578151853, -0.93342510496663444, -0.82081990155874762, 0.17694962943931491, -0.23627285837822376, -0.9947028262055353, 0.49199903485544277, -0.34676659388139208, -0.76699157772055926, -0.17266257038713642, 0.4220909716711404, 0.16737879906069864, 0.65261891929855886, 0.23167514902198022, 0.51366441876486046, 0.49803501876206641, 0.53239065843526545, -0.79627139538757319, -0.63017347443362126, -0.63668452663553043, -0.22614223702220873, 0.66824564978802881, -0.93687386708493858, 0.19507996769630048, -0.61231576195414039, -0.22684167976039896, 0.2433421480092148, 0.42867844621505308, 0.2661526966365963, -0.088429948109383663, -0.32277972440405683, -0.79323007730424788, 0.30139329139151966, -0.5757510093897602, 0.62396518622825226, -0.58534598642332125, 0.85606964296954302, 0.36189880058406365, 0.93960396134631463, 0.55512861660329405, -0.76735951904188116, 0.92252363080837629, -0.15655875290348464, -0.14977852904843031, -0.80475550668332663, -0.078048845577582279, -0.69979930628807663, 0.4521333403294242, -0.097804243592118034, -0.41650362487502668, -0.90780832262019617, 0.88973005625194779, -0.16280871491316773, -0.70563257405807844, 0.14560206300346173, -0.79025502882608123, -0.13321120693738053, -0.71562189770425, -0.62130733984900011, -0.26258032032799195, 0.23738593824586968, 0.91072576038020436, -0.62622904902944088, 0.69726238702435406, 0.54247102592659235, -0.40938431434223932, 0.31558143952840578, -0.06175143674495083, -0.9056444352103028, 0.49278709699035833, 0.90564570331302041, 0.0018738503796502971, -0.25773176984489693, 0.41786574048938602, -0.12692643518152724, 0.17804692698035454, 0.66752899300693769, 0.51236355037191783, 0.94012086496387293, 0.46919632046943455];\n",
        "var y = [-0.36296671781443329, 0.69686847550543873, 0.4092630820968261, 0.77943798663702779, 0.77680713465890727, -0.18952458255707944, 0.91434024529960378, -0.11763758012773164, 0.78300009687794603, -0.91783135260964155, 0.3842986393604621, -0.18419302461808623, 0.27298594773383855, -0.60349947158562767, 0.11656011131359724, 0.23795274931996452, -0.24098989714234659, -0.55279719791584214, 0.20678465715751237, -0.020564391266125685, -0.25675644003604448, 0.60808237169355583, -0.022504380132566296, -0.17134854632351781, -0.034475881762625768, -0.77990273258845066, 0.057924456984647175, 0.21846382516225743, -0.65433436693770575, 0.89782030580466365, 0.13566981055774535, -0.69388861480176567, 0.37983911246221908, -0.59038557791044233, 0.40508595965862526, -0.14605509161133218, -0.046148415096813736, 0.54597993966659697, 0.66754398690986683, 1.0011620880617325, -0.52988487198554102, -0.23857341528204129, -0.92486712440151531, 0.68910647894748167, 0.015891677083165637, 0.92617417287912218, -0.52213956821586371, 0.78328137052606617, -0.63587298120971203, 0.03072930154038014, -0.42803517929434881, -0.93725029401373106, -0.19258446417029462, 0.51836560893285633, 0.45519895546798256, 0.1354815053003211, -0.58336943285149645, 0.38675172533965724, -0.74225349628658699, -0.2118197662433835, -0.12034531974101186, -0.25615998778381405, -0.53977921937607987, 0.54460539918971984, -0.77603686383952386, -0.28708225805781351, -0.78050764246572424, -0.40500168261838648, 0.75459859855446909, -0.063359934100476981, -0.25110887432615664, -0.1355691821851831, -0.57911560145773922, -0.79414142675937927, 0.049296403030726917, 0.66973485522160858, -0.67475682780075563, -0.58335202918142937, -0.11595086443057458, -0.98037371881607971, -0.20739086292917341, -0.68339892777185052, -0.64184653057731722, 0.15784391456233049, 0.7539227913335742, 0.20801571491005544, 0.96374414653947427, 0.27908680671014652, -0.20324024448027567, -0.23409931089486397, -0.26232360857436071, 0.87209179729810105, 0.31713393593419048, 0.94591319831859932, 0.68663401640307908, -0.088280810702350943, -0.54390499682989013, 0.32048039214717533, 0.77962783339958941];\n",
        "var z = [0.39732363698199125, -0.2274910539833688, -0.60947413245474025, -0.17441077088850135, -0.61712456175167096, 0.13585339874882277, 0.23260126244185211, -0.85268588236193932, -0.19286056758757056, -0.077148116835322161, -0.76384657381936438, 0.95657039209639305, 0.79603117079617036, 0.064680410975997471, -0.54100023636601147, -0.33700362174968573, 0.73280348103859627, -0.1914483513542431, 0.16802052013292462, -0.93569976605882532, 0.16482792643481722, 0.18902273896157276, 1.0458594290536403, -0.83554570553244412, -0.038317775447572262, -0.37732989338451489, 1.0014613555579464, -0.4611935459555756, 0.70662696767647282, 0.32032775527766305, -0.84200432206944176, 0.14672665425417003, -0.89390371288715476, -0.47942736668362329, 0.80902293671051906, 0.9149333171290378, -0.48883828646455196, 0.5611254814099863, 0.18939379533719514, 0.090849018153773053, 0.539614677236958, 0.27112123549274036, 0.11336841396599132, -0.37696297076399277, -0.94204264746933752, 0.41260948964509642, -0.68823974508529029, -0.44332747066036515, 0.80776449195751598, -0.91219406713251538, 0.47902231642607884, -0.066775598197831687, 0.79424177408163266, 0.65099467118068066, -0.64685994441591443, -0.42676279930089617, -0.65345416448841276, 0.10730814112592346, 0.42378522009990405, -0.55315524365768265, 0.040624109791111626, 0.97871314703171786, 0.8591257589399548, -0.2204029982358098, 0.61269592837612541, -0.62018089248898856, -0.35897729294204561, -0.84370757843646127, -0.48275413575379178, 0.4737339976799621, 0.057469978442799906, -0.94343147411968475, 0.292896677223695, 0.61150593150659027, 0.56156309324416875, 0.70408758137641658, 0.11822157959473129, -0.39479611132927434, 1.0162472341405482, 0.018679806191529549, 0.41416884323974978, 0.15277075624685926, -0.28180656315412056, -0.82395301630624918, -0.39149589689812458, 0.98352185682996418, 0.33258541035038791, 0.33984765799660926, 0.89627270437174555, -0.11769096371554813, -0.82260467875677679, 0.37324153886298661, -0.84465755470412596, -0.29080055330772436, -0.57931750665022597, 0.70746722596438838, -0.54924199025658349, -0.091041721845123297, -0.46594307407508651];\n",
        "var c = ['red', 'red', 'red', 'red', 'red', 'red', 'red', 'red', 'red', 'red', 'red', 'red', 'red', 'red', 'red', 'red', 'red', 'red', 'red', 'red', 'red', 'red', 'red', 'red', 'red', 'red', 'red', 'red', 'red', 'red', 'red', 'red', 'red', 'red', 'red', 'red', 'red', 'red', 'red', 'red', 'red', 'red', 'red', 'red', 'red', 'red', 'red', 'red', 'red', 'red', 'red', 'red', 'red', 'red', 'red', 'red', 'red', 'red', 'red', 'red', 'red', 'red', 'red', 'red', 'red', 'red', 'red', 'red', 'red', 'red', 'red', 'red', 'red', 'red', 'red', 'red', 'red', 'red', 'red', 'red', 'red', 'red', 'red', 'red', 'red', 'red', 'red', 'red', 'red', 'red', 'red', 'red', 'red', 'red', 'red', 'red', 'red', 'red', 'red'];\n",
        "var radius = [0.01, 0.01, 0.01, 0.01, 0.01, 0.01, 0.01, 0.01, 0.01, 0.01, 0.01, 0.01, 0.01, 0.01, 0.01, 0.01, 0.01, 0.01, 0.01, 0.01, 0.01, 0.01, 0.01, 0.01, 0.01, 0.01, 0.01, 0.01, 0.01, 0.01, 0.01, 0.01, 0.01, 0.01, 0.01, 0.01, 0.01, 0.01, 0.01, 0.01, 0.01, 0.01, 0.01, 0.01, 0.01, 0.01, 0.01, 0.01, 0.01, 0.01, 0.01, 0.01, 0.01, 0.01, 0.01, 0.01, 0.01, 0.01, 0.01, 0.01, 0.01, 0.01, 0.01, 0.01, 0.01, 0.01, 0.01, 0.01, 0.01, 0.01, 0.01, 0.01, 0.01, 0.01, 0.01, 0.01, 0.01, 0.01, 0.01, 0.01, 0.01, 0.01, 0.01, 0.01, 0.01, 0.01, 0.01, 0.01, 0.01, 0.01, 0.01, 0.01, 0.01, 0.01, 0.01, 0.01, 0.01, 0.01, 0.01];\n",
        "renderParticles( \"3892f072-4a06-4d13-9506-f88e91e4ce9a\",x,y,z,c,radius, 500)\n",
        "</script>\n"
       ],
       "metadata": {},
       "output_type": "display_data",
       "text": [
        "<IPython.core.display.HTML at 0x7f3eb9624c50>"
       ]
      }
     ],
     "prompt_number": 20
    },
    {
     "cell_type": "code",
     "collapsed": false,
     "input": [],
     "language": "python",
     "metadata": {},
     "outputs": []
    }
   ],
   "metadata": {}
  }
 ]
}