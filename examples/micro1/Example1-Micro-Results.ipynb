{
 "cells": [
  {
   "cell_type": "code",
   "execution_count": 1,
   "metadata": {
    "collapsed": false
   },
   "outputs": [],
   "source": [
    "import dolfin\n",
    "import fenics"
   ]
  },
  {
   "cell_type": "code",
   "execution_count": 2,
   "metadata": {
    "collapsed": false
   },
   "outputs": [],
   "source": [
    "import pyurdme"
   ]
  },
  {
   "cell_type": "code",
   "execution_count": 3,
   "metadata": {
    "collapsed": false
   },
   "outputs": [],
   "source": [
    "from pyurdme import microsolver"
   ]
  },
  {
   "cell_type": "code",
   "execution_count": 4,
   "metadata": {
    "collapsed": false
   },
   "outputs": [],
   "source": [
    "import math\n",
    "import numpy\n",
    "import time\n",
    "import matplotlib.pyplot as plt"
   ]
  },
  {
   "cell_type": "code",
   "execution_count": 5,
   "metadata": {
    "collapsed": false
   },
   "outputs": [],
   "source": [
    "import mshr"
   ]
  },
  {
   "cell_type": "code",
   "execution_count": 6,
   "metadata": {
    "collapsed": false
   },
   "outputs": [],
   "source": [
    "%matplotlib inline"
   ]
  },
  {
   "cell_type": "code",
   "execution_count": 7,
   "metadata": {
    "collapsed": false
   },
   "outputs": [],
   "source": [
    "def hhp_kr(h,kr,D,sigma,dim):\n",
    "    if(dim==3):\n",
    "        kr_kc = 4.0*math.pi*sigma*D*kr/(4.0*math.pi*sigma*D+kr)\n",
    "        tau_diff = 1.5164/(6*D*h)\n",
    "        tau_eff = 1.0/kr_kc\n",
    "\n",
    "    return 1.0/(tau_eff-tau_diff);\n",
    "\n",
    "def hhp_kd(h,kr,kd,D,sigma,dim):\n",
    "\n",
    "    kr_hhp = hhp_kr(h,kr,D,sigma,dim)\n",
    "    return pow(h,dim)*kd*kr_hhp/kr"
   ]
  },
  {
   "cell_type": "code",
   "execution_count": null,
   "metadata": {
    "collapsed": false
   },
   "outputs": [],
   "source": []
  },
  {
   "cell_type": "code",
   "execution_count": 8,
   "metadata": {
    "collapsed": false
   },
   "outputs": [],
   "source": [
    "class Example2(pyurdme.URDMEModel):\n",
    "    \"\"\" The reversible reaction A+B<->C in 2D.  \"\"\"\n",
    "    \n",
    "    def __init__(self,kr):\n",
    "        \n",
    "        pyurdme.URDMEModel.__init__(self,name=\"reversible\")\n",
    "\n",
    "        \n",
    "        #Parameters (normalized s.t. V=1)\n",
    "        V = 0.5005\n",
    "        D = 1.0\n",
    "        sigma = 2.5e-3\n",
    "        k1 = 10\n",
    "        k2 = kr\n",
    "        \n",
    "        \n",
    "        \n",
    "        \n",
    "\n",
    "        # Substrate and enzymes\n",
    "        S1 = pyurdme.Species(name=\"S1\",reaction_radius=sigma,diffusion_constant=D)\n",
    "        S11 = pyurdme.Species(name=\"S11\",reaction_radius=sigma,diffusion_constant=D)\n",
    "        S12 = pyurdme.Species(name=\"S12\",reaction_radius=sigma,diffusion_constant=D)\n",
    "        S2  = pyurdme.Species(name=\"S2\",reaction_radius=sigma,diffusion_constant=D)\n",
    "        self.add_species([S1,S11,S12,S2])\n",
    "\n",
    "        \n",
    "        # Microscopic association and disassociation rate\n",
    "        kr_micro  = pyurdme.Parameter(name=\"krm\",expression=k2)\n",
    "        kd  = pyurdme.Parameter(name=\"kd\",expression=k1)\n",
    "        \n",
    "        # Geometry\n",
    "        #sphere = mshr.Sphere(dolfin.Point(0.0, 0.0, 0.0), (3*V/(4*pi))**0.3333333)\n",
    "       # print (3*V/(4*pi))**0.3333333\n",
    "       # self.mesh = pyurdme.URDMEMesh(mesh=mshr.generate_mesh(sphere, 80))\n",
    "        self.mesh = pyurdme.URDMEMesh.read_mesh('cube7.msh')\n",
    "        \n",
    "        #self.add_subdomain(Membrane(), 2)\n",
    "        #self.restrict(species=S2,subdomains=[2])\n",
    "            \n",
    "        # Reactions\n",
    "        R1 = pyurdme.Reaction(name=\"R1\",reactants={S1:1},products={S11:1,S12:1},massaction=True, rate=kd)\n",
    "        R2 = pyurdme.Reaction(name=\"R2\",reactants={S11:1,S12:1},products={S2:1},massaction=True, rate=kr_micro)\n",
    "    \n",
    "        self.add_parameter([kr_micro,kd])\n",
    "        self.add_reaction([R1,R2])\n",
    "        \n",
    "        # Distribute the molecules over the mesh\n",
    "        self.set_initial_condition_scatter({S1:100})\n",
    "        # Time span of the simulation\n",
    "        self.timespan(numpy.linspace(0,5.05,102))"
   ]
  },
  {
   "cell_type": "code",
   "execution_count": 9,
   "metadata": {
    "collapsed": false
   },
   "outputs": [],
   "source": [
    "tspan = numpy.linspace(0,5.05,102)\n",
    "kr = [1.0,0.5,0.16,0.08,0.04,0.02,0.01]\n",
    "micro = []\n",
    "for i in range(1,8):\n",
    "    micro.append(numpy.loadtxt('micro_new'+str(i)+'.txt',delimiter=' '))\n"
   ]
  },
  {
   "cell_type": "code",
   "execution_count": 10,
   "metadata": {
    "collapsed": false
   },
   "outputs": [
    {
     "data": {
      "text/plain": [
       "[<matplotlib.lines.Line2D at 0x7f786ac58c10>,\n",
       " <matplotlib.lines.Line2D at 0x7f786ac58e10>,\n",
       " <matplotlib.lines.Line2D at 0x7f786ac58f50>,\n",
       " <matplotlib.lines.Line2D at 0x7f786ac660d0>]"
      ]
     },
     "execution_count": 10,
     "metadata": {},
     "output_type": "execute_result"
    },
    {
     "data": {
      "image/png": "[encoded data removed]",
      "text/plain": [
       "<matplotlib.figure.Figure at 0x7f786acb8290>"
      ]
     },
     "metadata": {},
     "output_type": "display_data"
    }
   ],
   "source": [
    "plt.plot(tspan,micro[0])"
   ]
  },
  {
   "cell_type": "code",
   "execution_count": 11,
   "metadata": {
    "collapsed": false
   },
   "outputs": [],
   "source": [
    "#solver._write_mesh_file(\"spheremesh.h5\")\n",
    "#solver.serialize(\"urdmeinputesphere.mat\")"
   ]
  },
  {
   "cell_type": "code",
   "execution_count": 12,
   "metadata": {
    "collapsed": false
   },
   "outputs": [],
   "source": [
    "num_traj = 10\n",
    "nspecies = 4"
   ]
  },
  {
   "cell_type": "code",
   "execution_count": 13,
   "metadata": {
    "collapsed": false
   },
   "outputs": [],
   "source": [
    "#model = Example2(1e-18)\n",
    "#solver = microsolver.MMMSSolver(model)\n",
    "#temp = solver.run()"
   ]
  },
  {
   "cell_type": "code",
   "execution_count": 14,
   "metadata": {
    "collapsed": false
   },
   "outputs": [],
   "source": [
    "pi = 3.14159265359"
   ]
  },
  {
   "cell_type": "code",
   "execution_count": 15,
   "metadata": {
    "collapsed": false
   },
   "outputs": [
    {
     "name": "stdout",
     "output_type": "stream",
     "text": [
      "['/home/pyurdme/pyurdme/mmms/bin/mmms', '/tmp/tmpe7vpDw', '/tmp/tmplEEuHL', '/tmp/tmpdA20GG', '/tmp/tmpp4y_CJ']\n",
      "['/home/pyurdme/pyurdme/mmms/bin/mmms', '/tmp/tmpz8_Dl2', '/tmp/tmplEEuHL', '/tmp/tmpZ7bRNP', '/tmp/tmphy1GHi']\n",
      "['/home/pyurdme/pyurdme/mmms/bin/mmms', '/tmp/tmpfgEWaG', '/tmp/tmplEEuHL', '/tmp/tmp2H5DaH', '/tmp/tmpIaYNCs']\n",
      "['/home/pyurdme/pyurdme/mmms/bin/mmms', '/tmp/tmp_wL8Nr', '/tmp/tmplEEuHL', '/tmp/tmpSatlNb', '/tmp/tmpoULnZl']\n",
      "['/home/pyurdme/pyurdme/mmms/bin/mmms', '/tmp/tmpsg_nY2', '/tmp/tmplEEuHL', '/tmp/tmpLIBaZt', '/tmp/tmpBKifw3']\n",
      "['/home/pyurdme/pyurdme/mmms/bin/mmms', '/tmp/tmpqQQZSn', '/tmp/tmplEEuHL', '/tmp/tmpJjiCOh', '/tmp/tmpE_83wC']\n",
      "['/home/pyurdme/pyurdme/mmms/bin/mmms', '/tmp/tmpI8nPFE', '/tmp/tmplEEuHL', '/tmp/tmpPW75KE', '/tmp/tmpxn0pBL']\n",
      "['/home/pyurdme/pyurdme/mmms/bin/mmms', '/tmp/tmpU6CxLR', '/tmp/tmplEEuHL', '/tmp/tmpclisVb', '/tmp/tmp1vHbxE']\n",
      "['/home/pyurdme/pyurdme/mmms/bin/mmms', '/tmp/tmp4teijx', '/tmp/tmplEEuHL', '/tmp/tmpM_kxK7', '/tmp/tmp4k10vQ']\n",
      "['/home/pyurdme/pyurdme/mmms/bin/mmms', '/tmp/tmp3KNLDK', '/tmp/tmplEEuHL', '/tmp/tmpWjCYCq', '/tmp/tmpF7MIAM']\n",
      "['/home/pyurdme/pyurdme/mmms/bin/mmms', '/tmp/tmp8futV9', '/tmp/tmpbz1ir7', '/tmp/tmpGgJYdQ', '/tmp/tmp_XZp00']\n",
      "['/home/pyurdme/pyurdme/mmms/bin/mmms', '/tmp/tmp5uSAtI', '/tmp/tmpbz1ir7', '/tmp/tmpyV3Ltw', '/tmp/tmpqowXLt']\n",
      "['/home/pyurdme/pyurdme/mmms/bin/mmms', '/tmp/tmpSjWB9P', '/tmp/tmpbz1ir7', '/tmp/tmpCWbaZ_', '/tmp/tmpPALSHK']\n",
      "['/home/pyurdme/pyurdme/mmms/bin/mmms', '/tmp/tmpRpvLzU', '/tmp/tmpbz1ir7', '/tmp/tmpVzR8DE', '/tmp/tmphz2OBZ']\n",
      "['/home/pyurdme/pyurdme/mmms/bin/mmms', '/tmp/tmpkNruN9', '/tmp/tmpbz1ir7', '/tmp/tmpAH4Cun', '/tmp/tmpLy5w8p']\n",
      "['/home/pyurdme/pyurdme/mmms/bin/mmms', '/tmp/tmpIaHDU2', '/tmp/tmpbz1ir7', '/tmp/tmpcryS0M', '/tmp/tmpsQR7sn']\n",
      "['/home/pyurdme/pyurdme/mmms/bin/mmms', '/tmp/tmpXMCdtv', '/tmp/tmpbz1ir7', '/tmp/tmpThGKCs', '/tmp/tmphc9O0I']\n",
      "['/home/pyurdme/pyurdme/mmms/bin/mmms', '/tmp/tmpKqRxDN', '/tmp/tmpbz1ir7', '/tmp/tmpAJmhic', '/tmp/tmpHnwnrM']\n",
      "['/home/pyurdme/pyurdme/mmms/bin/mmms', '/tmp/tmpwuBuh5', '/tmp/tmpbz1ir7', '/tmp/tmpjuqSHH', '/tmp/tmpXZsHyo']\n",
      "['/home/pyurdme/pyurdme/mmms/bin/mmms', '/tmp/tmpQ4gBVl', '/tmp/tmpbz1ir7', '/tmp/tmp_K8nJS', '/tmp/tmpGYSecr']\n",
      "['/home/pyurdme/pyurdme/mmms/bin/mmms', '/tmp/tmpYS8tuP', '/tmp/tmpFJP8NU', '/tmp/tmp4Kiggw', '/tmp/tmp4WuHOZ']\n",
      "['/home/pyurdme/pyurdme/mmms/bin/mmms', '/tmp/tmpfuNKXx', '/tmp/tmpFJP8NU', '/tmp/tmpWF6Er0', '/tmp/tmpjF1Y0k']\n",
      "['/home/pyurdme/pyurdme/mmms/bin/mmms', '/tmp/tmp_Rf_VG', '/tmp/tmpFJP8NU', '/tmp/tmpnl_Eux', '/tmp/tmpDJdqtn']\n",
      "['/home/pyurdme/pyurdme/mmms/bin/mmms', '/tmp/tmpGKy2y2', '/tmp/tmpFJP8NU', '/tmp/tmpjHV3yr', '/tmp/tmpSXuawZ']\n",
      "['/home/pyurdme/pyurdme/mmms/bin/mmms', '/tmp/tmp_3cuVN', '/tmp/tmpFJP8NU', '/tmp/tmpQvVMPb', '/tmp/tmpiOVZ2O']\n",
      "['/home/pyurdme/pyurdme/mmms/bin/mmms', '/tmp/tmpGY3AY_', '/tmp/tmpFJP8NU', '/tmp/tmpyoeggA', '/tmp/tmpirFDW5']\n",
      "['/home/pyurdme/pyurdme/mmms/bin/mmms', '/tmp/tmpE1QdXp', '/tmp/tmpFJP8NU', '/tmp/tmpNPO3xY', '/tmp/tmpFkCzMZ']\n",
      "['/home/pyurdme/pyurdme/mmms/bin/mmms', '/tmp/tmpylrQ67', '/tmp/tmpFJP8NU', '/tmp/tmpVEGi33', '/tmp/tmpGpscI8']\n",
      "['/home/pyurdme/pyurdme/mmms/bin/mmms', '/tmp/tmpVzqRy4', '/tmp/tmpFJP8NU', '/tmp/tmpT5g5r2', '/tmp/tmpKW8upo']\n",
      "['/home/pyurdme/pyurdme/mmms/bin/mmms', '/tmp/tmp34LFgm', '/tmp/tmpFJP8NU', '/tmp/tmp4ZxkB3', '/tmp/tmpxrYKZ0']\n",
      "['/home/pyurdme/pyurdme/mmms/bin/mmms', '/tmp/tmpyyPiD0', '/tmp/tmpQftL0P', '/tmp/tmp6rBFw8', '/tmp/tmpUbzql4']\n",
      "['/home/pyurdme/pyurdme/mmms/bin/mmms', '/tmp/tmpBa2Nim', '/tmp/tmpQftL0P', '/tmp/tmp_OjHtE', '/tmp/tmpsyjshE']\n",
      "['/home/pyurdme/pyurdme/mmms/bin/mmms', '/tmp/tmpz1KNdN', '/tmp/tmpQftL0P', '/tmp/tmp0yoq97', '/tmp/tmpVUjINn']\n",
      "['/home/pyurdme/pyurdme/mmms/bin/mmms', '/tmp/tmpP5pG_Y', '/tmp/tmpQftL0P', '/tmp/tmpF18Md5', '/tmp/tmpMzWWFi']\n",
      "['/home/pyurdme/pyurdme/mmms/bin/mmms', '/tmp/tmp7BHmPm', '/tmp/tmpQftL0P', '/tmp/tmpVBnckd', '/tmp/tmpKCG5lR']\n",
      "['/home/pyurdme/pyurdme/mmms/bin/mmms', '/tmp/tmpNn92qe', '/tmp/tmpQftL0P', '/tmp/tmpWAHGFs', '/tmp/tmpFInnIs']\n",
      "['/home/pyurdme/pyurdme/mmms/bin/mmms', '/tmp/tmptI01F8', '/tmp/tmpQftL0P', '/tmp/tmpDNHozP', '/tmp/tmpm4YxN_']\n",
      "['/home/pyurdme/pyurdme/mmms/bin/mmms', '/tmp/tmpwg3XjS', '/tmp/tmpQftL0P', '/tmp/tmpsH6A9i', '/tmp/tmp256zrZ']\n",
      "['/home/pyurdme/pyurdme/mmms/bin/mmms', '/tmp/tmpl8Kn7w', '/tmp/tmpQftL0P', '/tmp/tmp_X7JVu', '/tmp/tmpBQj2Gw']\n",
      "['/home/pyurdme/pyurdme/mmms/bin/mmms', '/tmp/tmpBwbQw0', '/tmp/tmpQftL0P', '/tmp/tmpAv1Z4f', '/tmp/tmpf81aVb']\n",
      "['/home/pyurdme/pyurdme/mmms/bin/mmms', '/tmp/tmp0P76p8', '/tmp/tmpGjxNf7', '/tmp/tmpx6PMKy', '/tmp/tmp3CnzCO']\n",
      "['/home/pyurdme/pyurdme/mmms/bin/mmms', '/tmp/tmpsQwYzp', '/tmp/tmpGjxNf7', '/tmp/tmpw77p9l', '/tmp/tmpvtt2fb']\n",
      "['/home/pyurdme/pyurdme/mmms/bin/mmms', '/tmp/tmpllSAJJ', '/tmp/tmpGjxNf7', '/tmp/tmp5cpX5p', '/tmp/tmpmc_uXi']\n",
      "['/home/pyurdme/pyurdme/mmms/bin/mmms', '/tmp/tmpMdIBvk', '/tmp/tmpGjxNf7', '/tmp/tmp9Mtb4G', '/tmp/tmpLTweNt']\n",
      "['/home/pyurdme/pyurdme/mmms/bin/mmms', '/tmp/tmpIqb244', '/tmp/tmpGjxNf7', '/tmp/tmpXBvkm3', '/tmp/tmpuPwj5B']\n",
      "['/home/pyurdme/pyurdme/mmms/bin/mmms', '/tmp/tmpzCCzJr', '/tmp/tmpGjxNf7', '/tmp/tmpcTFaBr', '/tmp/tmpeR_VZX']\n",
      "['/home/pyurdme/pyurdme/mmms/bin/mmms', '/tmp/tmp5vpVqx', '/tmp/tmpGjxNf7', '/tmp/tmpVNPotj', '/tmp/tmpiJ9_ZF']\n",
      "['/home/pyurdme/pyurdme/mmms/bin/mmms', '/tmp/tmpk7OGh1', '/tmp/tmpGjxNf7', '/tmp/tmpwE2JjC', '/tmp/tmpSXYDCf']\n",
      "['/home/pyurdme/pyurdme/mmms/bin/mmms', '/tmp/tmpMVPreP', '/tmp/tmpGjxNf7', '/tmp/tmpWBbF4w', '/tmp/tmp0lS4Qp']\n",
      "['/home/pyurdme/pyurdme/mmms/bin/mmms', '/tmp/tmpFjkZxP', '/tmp/tmpGjxNf7', '/tmp/tmpP5FnkO', '/tmp/tmpNvTCoA']\n",
      "['/home/pyurdme/pyurdme/mmms/bin/mmms', '/tmp/tmp7Y5jpO', '/tmp/tmpXkHTQX', '/tmp/tmpC8ZC1L', '/tmp/tmpJ4jQUp']\n",
      "['/home/pyurdme/pyurdme/mmms/bin/mmms', '/tmp/tmphSivp4', '/tmp/tmpXkHTQX', '/tmp/tmpwpKTm3', '/tmp/tmpAxvIbH']\n",
      "['/home/pyurdme/pyurdme/mmms/bin/mmms', '/tmp/tmpKQVoI1', '/tmp/tmpXkHTQX', '/tmp/tmptrOsiJ', '/tmp/tmpGeCpb5']\n",
      "['/home/pyurdme/pyurdme/mmms/bin/mmms', '/tmp/tmpAczVrr', '/tmp/tmpXkHTQX', '/tmp/tmpSjYWfG', '/tmp/tmpCJrnzZ']\n",
      "['/home/pyurdme/pyurdme/mmms/bin/mmms', '/tmp/tmp4mfovc', '/tmp/tmpXkHTQX', '/tmp/tmpI2Iwgk', '/tmp/tmpBd3aMY']\n",
      "['/home/pyurdme/pyurdme/mmms/bin/mmms', '/tmp/tmp_jbZ9E', '/tmp/tmpXkHTQX', '/tmp/tmp5bY5s5', '/tmp/tmpr4OhXo']\n",
      "['/home/pyurdme/pyurdme/mmms/bin/mmms', '/tmp/tmph_Kl8j', '/tmp/tmpXkHTQX', '/tmp/tmpc3S0fB', '/tmp/tmparHpTy']\n",
      "['/home/pyurdme/pyurdme/mmms/bin/mmms', '/tmp/tmpxAR3is', '/tmp/tmpXkHTQX', '/tmp/tmpGEGjFN', '/tmp/tmpkC1TxW']\n",
      "['/home/pyurdme/pyurdme/mmms/bin/mmms', '/tmp/tmpqpmn1T', '/tmp/tmpXkHTQX', '/tmp/tmpgw5v_0', '/tmp/tmpEMuYE8']\n",
      "['/home/pyurdme/pyurdme/mmms/bin/mmms', '/tmp/tmpOtXxZU', '/tmp/tmpXkHTQX', '/tmp/tmpcp1pgL', '/tmp/tmpJiXKpb']\n",
      "['/home/pyurdme/pyurdme/mmms/bin/mmms', '/tmp/tmpQKoPuy', '/tmp/tmpx3NVwB', '/tmp/tmpdhH1rp', '/tmp/tmpslvHmK']\n",
      "['/home/pyurdme/pyurdme/mmms/bin/mmms', '/tmp/tmpdMSCEq', '/tmp/tmpx3NVwB', '/tmp/tmpE9xeg3', '/tmp/tmp6nME59']\n",
      "['/home/pyurdme/pyurdme/mmms/bin/mmms', '/tmp/tmpQbbUPa', '/tmp/tmpx3NVwB', '/tmp/tmplYYjwp', '/tmp/tmpL0bl8i']\n",
      "['/home/pyurdme/pyurdme/mmms/bin/mmms', '/tmp/tmp__qtFh', '/tmp/tmpx3NVwB', '/tmp/tmpnxM201', '/tmp/tmplHJaV_']\n",
      "['/home/pyurdme/pyurdme/mmms/bin/mmms', '/tmp/tmplYeIns', '/tmp/tmpx3NVwB', '/tmp/tmpNOVVRw', '/tmp/tmpm6Fqpd']\n",
      "['/home/pyurdme/pyurdme/mmms/bin/mmms', '/tmp/tmpP3tAJo', '/tmp/tmpx3NVwB', '/tmp/tmpIiz3A7', '/tmp/tmpuxo2BO']\n",
      "['/home/pyurdme/pyurdme/mmms/bin/mmms', '/tmp/tmpeXZ9WI', '/tmp/tmpx3NVwB', '/tmp/tmpCpDpmk', '/tmp/tmpKSgzcR']\n",
      "['/home/pyurdme/pyurdme/mmms/bin/mmms', '/tmp/tmp9n28Ft', '/tmp/tmpx3NVwB', '/tmp/tmpNWnTfS', '/tmp/tmpeg6WDi']\n",
      "['/home/pyurdme/pyurdme/mmms/bin/mmms', '/tmp/tmp8yQ42P', '/tmp/tmpx3NVwB', '/tmp/tmp15UTl9', '/tmp/tmpC325Qk']\n",
      "['/home/pyurdme/pyurdme/mmms/bin/mmms', '/tmp/tmpLiSRYd', '/tmp/tmpx3NVwB', '/tmp/tmpWU34cT', '/tmp/tmpYvJAkJ']\n",
      "35701.2261159\n"
     ]
    }
   ],
   "source": [
    "timem1 = time.time()\n",
    "\n",
    "res = []\n",
    "kr=[1.0,0.5,0.16,0.08,0.04,0.02,0.01]\n",
    "\n",
    "mmms = []\n",
    "\n",
    "for k in range(0,len(kr)):\n",
    "    model = Example2(kr=kr[k])\n",
    "    solver = microsolver.MMMSSolver(model)\n",
    "    Sout = []\n",
    "    for i in range(0,num_traj):\n",
    "        temp = solver.run()\n",
    "        if(i==0):\n",
    "            for j in range(0,nspecies):\n",
    "                Sout.append(temp.get_summary_statistic(j))\n",
    "        else:\n",
    "            for j in range(0,nspecies):\n",
    "                Sout[j] = Sout[j]+temp.get_summary_statistic(j)\n",
    "            \n",
    "    for j in range(0,nspecies):\n",
    "        Sout[j] = Sout[j]/num_traj\n",
    "        \n",
    "    mmms.append(Sout)\n",
    "        \n",
    "timem2 = time.time()\n",
    "print timem2-timem1"
   ]
  },
  {
   "cell_type": "code",
   "execution_count": 129,
   "metadata": {
    "collapsed": false,
    "scrolled": true
   },
   "outputs": [],
   "source": [
    "#model = Example2(kr=kr[1])"
   ]
  },
  {
   "cell_type": "code",
   "execution_count": 141,
   "metadata": {
    "collapsed": false
   },
   "outputs": [
    {
     "name": "stdout",
     "output_type": "stream",
     "text": [
      "OrderedDict([('krm', <pyurdme.model.Parameter instance at 0x7f4466e50320>), ('kd', <pyurdme.model.Parameter instance at 0x7f4466e503f8>)])\n",
      "0.2\n"
     ]
    }
   ],
   "source": [
    "#params = model.get_all_parameters()\n",
    "#print params\n",
    "#kr_micro = 0.2\n",
    "#model.set_parameter(pname='krm',expression=kr_micro)\n",
    "#params['krm'].expression = 0.2\n",
    "#params = model.get_all_parameters()\n"
   ]
  },
  {
   "cell_type": "code",
   "execution_count": null,
   "metadata": {
    "collapsed": true
   },
   "outputs": [],
   "source": []
  },
  {
   "cell_type": "code",
   "execution_count": 16,
   "metadata": {
    "collapsed": false
   },
   "outputs": [
    {
     "data": {
      "image/png": "[encoded data removed]",
      "text/plain": [
       "<matplotlib.figure.Figure at 0x7f786ac83a10>"
      ]
     },
     "metadata": {},
     "output_type": "display_data"
    }
   ],
   "source": [
    "f, axs = plt.subplots(len(kr), 1,figsize=(8,24))\n",
    "for i in range(0,len(kr)):\n",
    "    axs[i].plot(tspan,micro[i])\n",
    "\n",
    "for j in range(0,len(kr)):    \n",
    "    for i in range(0,nspecies):\n",
    "        axs[j].plot(tspan,mmms[j][i],linestyle='--')"
   ]
  },
  {
   "cell_type": "code",
   "execution_count": 17,
   "metadata": {
    "collapsed": false
   },
   "outputs": [],
   "source": [
    "\n",
    "err = []\n",
    "for j in range(0,len(kr)):\n",
    "    temp = 0.0\n",
    "    temp2 = 0.0\n",
    "    for i in range(0,nspecies):\n",
    "        for k in range(0,21):\n",
    "            temp = temp+abs(micro[j][k][i]-mmms[j][i][k])\n",
    "            temp2 = temp2+abs(micro[j][k][i])\n",
    "            \n",
    "    err.append(temp/temp2)"
   ]
  },
  {
   "cell_type": "code",
   "execution_count": 18,
   "metadata": {
    "collapsed": false
   },
   "outputs": [
    {
     "data": {
      "text/plain": [
       "[0.017550673844708601,\n",
       " 0.029627303645586838,\n",
       " 0.028239854957431351,\n",
       " 0.025235691838872507,\n",
       " 0.032535629849772853,\n",
       " 0.032121120529764936,\n",
       " 0.02384788711118942]"
      ]
     },
     "execution_count": 18,
     "metadata": {},
     "output_type": "execute_result"
    }
   ],
   "source": [
    "err"
   ]
  },
  {
   "cell_type": "code",
   "execution_count": 24,
   "metadata": {
    "collapsed": false
   },
   "outputs": [
    {
     "data": {
      "text/plain": [
       "[array([[  1.00000000e+02,   0.00000000e+00,   0.00000000e+00,\n",
       "          0.00000000e+00],\n",
       "       [  9.03700000e+01,   9.00000000e-02,   9.00000000e-02,\n",
       "          9.54000000e+00],\n",
       "       [  8.08700000e+01,   2.10000000e-01,   2.10000000e-01,\n",
       "          1.89200000e+01],\n",
       "       [  7.34300000e+01,   2.90000000e-01,   2.90000000e-01,\n",
       "          2.62800000e+01],\n",
       "       [  6.66400000e+01,   3.20000000e-01,   3.20000000e-01,\n",
       "          3.30400000e+01],\n",
       "       [  6.04000000e+01,   4.10000000e-01,   4.10000000e-01,\n",
       "          3.91900000e+01],\n",
       "       [  5.46700000e+01,   4.70000000e-01,   4.70000000e-01,\n",
       "          4.48600000e+01],\n",
       "       [  4.93400000e+01,   5.70000000e-01,   5.70000000e-01,\n",
       "          5.00900000e+01],\n",
       "       [  4.46700000e+01,   5.70000000e-01,   5.70000000e-01,\n",
       "          5.47600000e+01],\n",
       "       [  4.03700000e+01,   5.60000000e-01,   5.60000000e-01,\n",
       "          5.90700000e+01],\n",
       "       [  3.67500000e+01,   6.10000000e-01,   6.10000000e-01,\n",
       "          6.26400000e+01],\n",
       "       [  3.32000000e+01,   6.30000000e-01,   6.30000000e-01,\n",
       "          6.61700000e+01],\n",
       "       [  3.03800000e+01,   6.50000000e-01,   6.50000000e-01,\n",
       "          6.89700000e+01],\n",
       "       [  2.74500000e+01,   6.50000000e-01,   6.50000000e-01,\n",
       "          7.19000000e+01],\n",
       "       [  2.48200000e+01,   6.60000000e-01,   6.60000000e-01,\n",
       "          7.45200000e+01],\n",
       "       [  2.26000000e+01,   6.60000000e-01,   6.60000000e-01,\n",
       "          7.67400000e+01],\n",
       "       [  2.02900000e+01,   6.80000000e-01,   6.80000000e-01,\n",
       "          7.90300000e+01],\n",
       "       [  1.86000000e+01,   6.70000000e-01,   6.70000000e-01,\n",
       "          8.07300000e+01],\n",
       "       [  1.66600000e+01,   7.20000000e-01,   7.20000000e-01,\n",
       "          8.26200000e+01],\n",
       "       [  1.50300000e+01,   7.40000000e-01,   7.40000000e-01,\n",
       "          8.42300000e+01],\n",
       "       [  1.35600000e+01,   7.70000000e-01,   7.70000000e-01,\n",
       "          8.56700000e+01],\n",
       "       [  1.24200000e+01,   7.60000000e-01,   7.60000000e-01,\n",
       "          8.68200000e+01],\n",
       "       [  1.12500000e+01,   7.50000000e-01,   7.50000000e-01,\n",
       "          8.80000000e+01],\n",
       "       [  1.00600000e+01,   7.50000000e-01,   7.50000000e-01,\n",
       "          8.91900000e+01],\n",
       "       [  9.15000000e+00,   7.50000000e-01,   7.50000000e-01,\n",
       "          9.01000000e+01],\n",
       "       [  8.31000000e+00,   7.30000000e-01,   7.30000000e-01,\n",
       "          9.09600000e+01],\n",
       "       [  7.59000000e+00,   7.20000000e-01,   7.20000000e-01,\n",
       "          9.16900000e+01],\n",
       "       [  6.96000000e+00,   6.90000000e-01,   6.90000000e-01,\n",
       "          9.23500000e+01],\n",
       "       [  6.18000000e+00,   6.80000000e-01,   6.80000000e-01,\n",
       "          9.31400000e+01],\n",
       "       [  5.65000000e+00,   6.60000000e-01,   6.60000000e-01,\n",
       "          9.36900000e+01],\n",
       "       [  5.13000000e+00,   6.50000000e-01,   6.50000000e-01,\n",
       "          9.42200000e+01],\n",
       "       [  4.73000000e+00,   6.50000000e-01,   6.50000000e-01,\n",
       "          9.46200000e+01],\n",
       "       [  4.27000000e+00,   6.30000000e-01,   6.30000000e-01,\n",
       "          9.51000000e+01],\n",
       "       [  3.95000000e+00,   6.20000000e-01,   6.20000000e-01,\n",
       "          9.54300000e+01],\n",
       "       [  3.58000000e+00,   6.10000000e-01,   6.10000000e-01,\n",
       "          9.58100000e+01],\n",
       "       [  3.29000000e+00,   6.20000000e-01,   6.20000000e-01,\n",
       "          9.60900000e+01],\n",
       "       [  2.99000000e+00,   6.00000000e-01,   6.00000000e-01,\n",
       "          9.64100000e+01],\n",
       "       [  2.64000000e+00,   5.80000000e-01,   5.80000000e-01,\n",
       "          9.67800000e+01],\n",
       "       [  2.34000000e+00,   5.90000000e-01,   5.90000000e-01,\n",
       "          9.70700000e+01],\n",
       "       [  2.05000000e+00,   5.90000000e-01,   5.90000000e-01,\n",
       "          9.73600000e+01],\n",
       "       [  1.94000000e+00,   5.80000000e-01,   5.80000000e-01,\n",
       "          9.74800000e+01],\n",
       "       [  1.78000000e+00,   5.80000000e-01,   5.80000000e-01,\n",
       "          9.76400000e+01],\n",
       "       [  1.62000000e+00,   5.70000000e-01,   5.70000000e-01,\n",
       "          9.78100000e+01],\n",
       "       [  1.49000000e+00,   5.50000000e-01,   5.50000000e-01,\n",
       "          9.79600000e+01],\n",
       "       [  1.40000000e+00,   5.30000000e-01,   5.30000000e-01,\n",
       "          9.80700000e+01],\n",
       "       [  1.28000000e+00,   5.30000000e-01,   5.30000000e-01,\n",
       "          9.81900000e+01],\n",
       "       [  1.18000000e+00,   5.20000000e-01,   5.20000000e-01,\n",
       "          9.83000000e+01],\n",
       "       [  1.09000000e+00,   5.10000000e-01,   5.10000000e-01,\n",
       "          9.84000000e+01],\n",
       "       [  1.02000000e+00,   4.90000000e-01,   4.90000000e-01,\n",
       "          9.84900000e+01],\n",
       "       [  9.30000000e-01,   4.80000000e-01,   4.80000000e-01,\n",
       "          9.85900000e+01],\n",
       "       [  8.30000000e-01,   4.70000000e-01,   4.70000000e-01,\n",
       "          9.87000000e+01],\n",
       "       [  8.00000000e-01,   4.50000000e-01,   4.50000000e-01,\n",
       "          9.87500000e+01],\n",
       "       [  7.20000000e-01,   4.50000000e-01,   4.50000000e-01,\n",
       "          9.88300000e+01],\n",
       "       [  6.50000000e-01,   4.40000000e-01,   4.40000000e-01,\n",
       "          9.89100000e+01],\n",
       "       [  6.10000000e-01,   4.20000000e-01,   4.20000000e-01,\n",
       "          9.89700000e+01],\n",
       "       [  5.50000000e-01,   4.20000000e-01,   4.20000000e-01,\n",
       "          9.90300000e+01],\n",
       "       [  4.80000000e-01,   4.30000000e-01,   4.30000000e-01,\n",
       "          9.90900000e+01],\n",
       "       [  3.90000000e-01,   4.30000000e-01,   4.30000000e-01,\n",
       "          9.91800000e+01],\n",
       "       [  3.30000000e-01,   4.30000000e-01,   4.30000000e-01,\n",
       "          9.92400000e+01],\n",
       "       [  2.80000000e-01,   4.20000000e-01,   4.20000000e-01,\n",
       "          9.93000000e+01],\n",
       "       [  2.30000000e-01,   3.90000000e-01,   3.90000000e-01,\n",
       "          9.93800000e+01],\n",
       "       [  2.00000000e-01,   3.70000000e-01,   3.70000000e-01,\n",
       "          9.94300000e+01],\n",
       "       [  1.60000000e-01,   3.70000000e-01,   3.70000000e-01,\n",
       "          9.94700000e+01],\n",
       "       [  1.50000000e-01,   3.70000000e-01,   3.70000000e-01,\n",
       "          9.94800000e+01],\n",
       "       [  1.40000000e-01,   3.70000000e-01,   3.70000000e-01,\n",
       "          9.94900000e+01],\n",
       "       [  1.30000000e-01,   3.60000000e-01,   3.60000000e-01,\n",
       "          9.95100000e+01],\n",
       "       [  1.10000000e-01,   3.60000000e-01,   3.60000000e-01,\n",
       "          9.95300000e+01],\n",
       "       [  1.10000000e-01,   3.50000000e-01,   3.50000000e-01,\n",
       "          9.95400000e+01],\n",
       "       [  1.10000000e-01,   3.50000000e-01,   3.50000000e-01,\n",
       "          9.95400000e+01],\n",
       "       [  9.00000000e-02,   3.50000000e-01,   3.50000000e-01,\n",
       "          9.95600000e+01],\n",
       "       [  9.00000000e-02,   3.40000000e-01,   3.40000000e-01,\n",
       "          9.95700000e+01],\n",
       "       [  7.00000000e-02,   3.30000000e-01,   3.30000000e-01,\n",
       "          9.96000000e+01],\n",
       "       [  7.00000000e-02,   3.20000000e-01,   3.20000000e-01,\n",
       "          9.96100000e+01],\n",
       "       [  7.00000000e-02,   3.20000000e-01,   3.20000000e-01,\n",
       "          9.96100000e+01],\n",
       "       [  6.00000000e-02,   3.20000000e-01,   3.20000000e-01,\n",
       "          9.96200000e+01],\n",
       "       [  6.00000000e-02,   3.20000000e-01,   3.20000000e-01,\n",
       "          9.96200000e+01],\n",
       "       [  6.00000000e-02,   3.00000000e-01,   3.00000000e-01,\n",
       "          9.96400000e+01],\n",
       "       [  6.00000000e-02,   2.90000000e-01,   2.90000000e-01,\n",
       "          9.96500000e+01],\n",
       "       [  5.00000000e-02,   2.90000000e-01,   2.90000000e-01,\n",
       "          9.96600000e+01],\n",
       "       [  5.00000000e-02,   2.80000000e-01,   2.80000000e-01,\n",
       "          9.96700000e+01],\n",
       "       [  5.00000000e-02,   2.70000000e-01,   2.70000000e-01,\n",
       "          9.96800000e+01],\n",
       "       [  5.00000000e-02,   2.60000000e-01,   2.60000000e-01,\n",
       "          9.96900000e+01],\n",
       "       [  4.00000000e-02,   2.50000000e-01,   2.50000000e-01,\n",
       "          9.97100000e+01],\n",
       "       [  4.00000000e-02,   2.50000000e-01,   2.50000000e-01,\n",
       "          9.97100000e+01],\n",
       "       [  4.00000000e-02,   2.50000000e-01,   2.50000000e-01,\n",
       "          9.97100000e+01],\n",
       "       [  3.00000000e-02,   2.50000000e-01,   2.50000000e-01,\n",
       "          9.97200000e+01],\n",
       "       [  3.00000000e-02,   2.50000000e-01,   2.50000000e-01,\n",
       "          9.97200000e+01],\n",
       "       [  3.00000000e-02,   2.50000000e-01,   2.50000000e-01,\n",
       "          9.97200000e+01],\n",
       "       [  3.00000000e-02,   2.30000000e-01,   2.30000000e-01,\n",
       "          9.97400000e+01],\n",
       "       [  2.00000000e-02,   2.30000000e-01,   2.30000000e-01,\n",
       "          9.97500000e+01],\n",
       "       [  2.00000000e-02,   2.20000000e-01,   2.20000000e-01,\n",
       "          9.97600000e+01],\n",
       "       [  1.00000000e-02,   2.20000000e-01,   2.20000000e-01,\n",
       "          9.97700000e+01],\n",
       "       [  0.00000000e+00,   2.20000000e-01,   2.20000000e-01,\n",
       "          9.97800000e+01],\n",
       "       [  0.00000000e+00,   2.20000000e-01,   2.20000000e-01,\n",
       "          9.97800000e+01],\n",
       "       [  0.00000000e+00,   2.20000000e-01,   2.20000000e-01,\n",
       "          9.97800000e+01],\n",
       "       [  0.00000000e+00,   2.10000000e-01,   2.10000000e-01,\n",
       "          9.97900000e+01],\n",
       "       [  0.00000000e+00,   2.10000000e-01,   2.10000000e-01,\n",
       "          9.97900000e+01],\n",
       "       [  0.00000000e+00,   2.10000000e-01,   2.10000000e-01,\n",
       "          9.97900000e+01],\n",
       "       [  0.00000000e+00,   2.00000000e-01,   2.00000000e-01,\n",
       "          9.98000000e+01],\n",
       "       [  0.00000000e+00,   2.00000000e-01,   2.00000000e-01,\n",
       "          9.98000000e+01],\n",
       "       [  0.00000000e+00,   2.00000000e-01,   2.00000000e-01,\n",
       "          9.98000000e+01]]),\n",
       " array([[  1.00000000e+02,   0.00000000e+00,   0.00000000e+00,\n",
       "          0.00000000e+00],\n",
       "       [  9.04300000e+01,   3.08000000e+00,   3.08000000e+00,\n",
       "          6.49000000e+00],\n",
       "       [  8.17200000e+01,   5.58000000e+00,   5.58000000e+00,\n",
       "          1.27000000e+01],\n",
       "       [  7.42400000e+01,   7.36000000e+00,   7.36000000e+00,\n",
       "          1.84000000e+01],\n",
       "       [  6.71700000e+01,   8.63000000e+00,   8.63000000e+00,\n",
       "          2.42000000e+01],\n",
       "       [  6.05900000e+01,   9.63000000e+00,   9.63000000e+00,\n",
       "          2.97800000e+01],\n",
       "       [  5.46500000e+01,   1.02300000e+01,   1.02300000e+01,\n",
       "          3.51200000e+01],\n",
       "       [  4.93200000e+01,   1.04500000e+01,   1.04500000e+01,\n",
       "          4.02300000e+01],\n",
       "       [  4.45500000e+01,   1.06900000e+01,   1.06900000e+01,\n",
       "          4.47600000e+01],\n",
       "       [  4.04400000e+01,   1.04800000e+01,   1.04800000e+01,\n",
       "          4.90800000e+01],\n",
       "       [  3.63900000e+01,   1.01900000e+01,   1.01900000e+01,\n",
       "          5.34200000e+01],\n",
       "       [  3.27300000e+01,   1.02300000e+01,   1.02300000e+01,\n",
       "          5.70400000e+01],\n",
       "       [  2.96000000e+01,   1.00400000e+01,   1.00400000e+01,\n",
       "          6.03600000e+01],\n",
       "       [  2.65200000e+01,   1.00300000e+01,   1.00300000e+01,\n",
       "          6.34500000e+01],\n",
       "       [  2.41800000e+01,   9.51000000e+00,   9.51000000e+00,\n",
       "          6.63100000e+01],\n",
       "       [  2.18200000e+01,   9.18000000e+00,   9.18000000e+00,\n",
       "          6.90000000e+01],\n",
       "       [  1.98900000e+01,   8.73000000e+00,   8.73000000e+00,\n",
       "          7.13800000e+01],\n",
       "       [  1.78000000e+01,   8.60000000e+00,   8.60000000e+00,\n",
       "          7.36000000e+01],\n",
       "       [  1.62600000e+01,   8.29000000e+00,   8.29000000e+00,\n",
       "          7.54500000e+01],\n",
       "       [  1.48000000e+01,   7.92000000e+00,   7.92000000e+00,\n",
       "          7.72800000e+01],\n",
       "       [  1.35400000e+01,   7.64000000e+00,   7.64000000e+00,\n",
       "          7.88200000e+01],\n",
       "       [  1.21900000e+01,   7.40000000e+00,   7.40000000e+00,\n",
       "          8.04100000e+01],\n",
       "       [  1.09700000e+01,   7.22000000e+00,   7.22000000e+00,\n",
       "          8.18100000e+01],\n",
       "       [  9.79000000e+00,   7.01000000e+00,   7.01000000e+00,\n",
       "          8.32000000e+01],\n",
       "       [  8.83000000e+00,   6.68000000e+00,   6.68000000e+00,\n",
       "          8.44900000e+01],\n",
       "       [  8.07000000e+00,   6.41000000e+00,   6.41000000e+00,\n",
       "          8.55200000e+01],\n",
       "       [  7.33000000e+00,   6.21000000e+00,   6.21000000e+00,\n",
       "          8.64600000e+01],\n",
       "       [  6.63000000e+00,   6.00000000e+00,   6.00000000e+00,\n",
       "          8.73700000e+01],\n",
       "       [  6.07000000e+00,   5.66000000e+00,   5.66000000e+00,\n",
       "          8.82700000e+01],\n",
       "       [  5.49000000e+00,   5.46000000e+00,   5.46000000e+00,\n",
       "          8.90500000e+01],\n",
       "       [  4.82000000e+00,   5.34000000e+00,   5.34000000e+00,\n",
       "          8.98400000e+01],\n",
       "       [  4.42000000e+00,   4.97000000e+00,   4.97000000e+00,\n",
       "          9.06100000e+01],\n",
       "       [  4.01000000e+00,   4.82000000e+00,   4.82000000e+00,\n",
       "          9.11700000e+01],\n",
       "       [  3.63000000e+00,   4.64000000e+00,   4.64000000e+00,\n",
       "          9.17300000e+01],\n",
       "       [  3.27000000e+00,   4.43000000e+00,   4.43000000e+00,\n",
       "          9.23000000e+01],\n",
       "       [  3.06000000e+00,   4.20000000e+00,   4.20000000e+00,\n",
       "          9.27400000e+01],\n",
       "       [  2.72000000e+00,   4.17000000e+00,   4.17000000e+00,\n",
       "          9.31100000e+01],\n",
       "       [  2.50000000e+00,   4.12000000e+00,   4.12000000e+00,\n",
       "          9.33800000e+01],\n",
       "       [  2.31000000e+00,   3.96000000e+00,   3.96000000e+00,\n",
       "          9.37300000e+01],\n",
       "       [  2.11000000e+00,   3.81000000e+00,   3.81000000e+00,\n",
       "          9.40800000e+01],\n",
       "       [  1.98000000e+00,   3.68000000e+00,   3.68000000e+00,\n",
       "          9.43400000e+01],\n",
       "       [  1.79000000e+00,   3.62000000e+00,   3.62000000e+00,\n",
       "          9.45900000e+01],\n",
       "       [  1.57000000e+00,   3.39000000e+00,   3.39000000e+00,\n",
       "          9.50400000e+01],\n",
       "       [  1.41000000e+00,   3.28000000e+00,   3.28000000e+00,\n",
       "          9.53100000e+01],\n",
       "       [  1.23000000e+00,   3.19000000e+00,   3.19000000e+00,\n",
       "          9.55800000e+01],\n",
       "       [  1.09000000e+00,   3.13000000e+00,   3.13000000e+00,\n",
       "          9.57800000e+01],\n",
       "       [  9.60000000e-01,   3.08000000e+00,   3.08000000e+00,\n",
       "          9.59600000e+01],\n",
       "       [  8.90000000e-01,   2.97000000e+00,   2.97000000e+00,\n",
       "          9.61400000e+01],\n",
       "       [  7.50000000e-01,   2.85000000e+00,   2.85000000e+00,\n",
       "          9.64000000e+01],\n",
       "       [  6.90000000e-01,   2.76000000e+00,   2.76000000e+00,\n",
       "          9.65500000e+01],\n",
       "       [  6.30000000e-01,   2.70000000e+00,   2.70000000e+00,\n",
       "          9.66700000e+01],\n",
       "       [  5.70000000e-01,   2.58000000e+00,   2.58000000e+00,\n",
       "          9.68500000e+01],\n",
       "       [  5.30000000e-01,   2.49000000e+00,   2.49000000e+00,\n",
       "          9.69800000e+01],\n",
       "       [  4.40000000e-01,   2.45000000e+00,   2.45000000e+00,\n",
       "          9.71100000e+01],\n",
       "       [  4.10000000e-01,   2.37000000e+00,   2.37000000e+00,\n",
       "          9.72200000e+01],\n",
       "       [  4.00000000e-01,   2.30000000e+00,   2.30000000e+00,\n",
       "          9.73000000e+01],\n",
       "       [  3.70000000e-01,   2.21000000e+00,   2.21000000e+00,\n",
       "          9.74200000e+01],\n",
       "       [  3.30000000e-01,   2.18000000e+00,   2.18000000e+00,\n",
       "          9.74900000e+01],\n",
       "       [  3.20000000e-01,   2.14000000e+00,   2.14000000e+00,\n",
       "          9.75400000e+01],\n",
       "       [  3.00000000e-01,   2.07000000e+00,   2.07000000e+00,\n",
       "          9.76300000e+01],\n",
       "       [  2.50000000e-01,   2.02000000e+00,   2.02000000e+00,\n",
       "          9.77300000e+01],\n",
       "       [  2.30000000e-01,   1.99000000e+00,   1.99000000e+00,\n",
       "          9.77800000e+01],\n",
       "       [  1.90000000e-01,   1.95000000e+00,   1.95000000e+00,\n",
       "          9.78600000e+01],\n",
       "       [  1.80000000e-01,   1.90000000e+00,   1.90000000e+00,\n",
       "          9.79200000e+01],\n",
       "       [  1.80000000e-01,   1.88000000e+00,   1.88000000e+00,\n",
       "          9.79400000e+01],\n",
       "       [  1.70000000e-01,   1.82000000e+00,   1.82000000e+00,\n",
       "          9.80100000e+01],\n",
       "       [  1.60000000e-01,   1.77000000e+00,   1.77000000e+00,\n",
       "          9.80700000e+01],\n",
       "       [  1.60000000e-01,   1.71000000e+00,   1.71000000e+00,\n",
       "          9.81300000e+01],\n",
       "       [  1.40000000e-01,   1.68000000e+00,   1.68000000e+00,\n",
       "          9.81800000e+01],\n",
       "       [  1.30000000e-01,   1.66000000e+00,   1.66000000e+00,\n",
       "          9.82100000e+01],\n",
       "       [  1.00000000e-01,   1.66000000e+00,   1.66000000e+00,\n",
       "          9.82400000e+01],\n",
       "       [  9.00000000e-02,   1.64000000e+00,   1.64000000e+00,\n",
       "          9.82700000e+01],\n",
       "       [  6.00000000e-02,   1.60000000e+00,   1.60000000e+00,\n",
       "          9.83400000e+01],\n",
       "       [  4.00000000e-02,   1.60000000e+00,   1.60000000e+00,\n",
       "          9.83600000e+01],\n",
       "       [  4.00000000e-02,   1.56000000e+00,   1.56000000e+00,\n",
       "          9.84000000e+01],\n",
       "       [  4.00000000e-02,   1.55000000e+00,   1.55000000e+00,\n",
       "          9.84100000e+01],\n",
       "       [  4.00000000e-02,   1.53000000e+00,   1.53000000e+00,\n",
       "          9.84300000e+01],\n",
       "       [  3.00000000e-02,   1.51000000e+00,   1.51000000e+00,\n",
       "          9.84600000e+01],\n",
       "       [  3.00000000e-02,   1.48000000e+00,   1.48000000e+00,\n",
       "          9.84900000e+01],\n",
       "       [  2.00000000e-02,   1.46000000e+00,   1.46000000e+00,\n",
       "          9.85200000e+01],\n",
       "       [  2.00000000e-02,   1.44000000e+00,   1.44000000e+00,\n",
       "          9.85400000e+01],\n",
       "       [  2.00000000e-02,   1.43000000e+00,   1.43000000e+00,\n",
       "          9.85500000e+01],\n",
       "       [  2.00000000e-02,   1.40000000e+00,   1.40000000e+00,\n",
       "          9.85800000e+01],\n",
       "       [  2.00000000e-02,   1.38000000e+00,   1.38000000e+00,\n",
       "          9.86000000e+01],\n",
       "       [  2.00000000e-02,   1.37000000e+00,   1.37000000e+00,\n",
       "          9.86100000e+01],\n",
       "       [  2.00000000e-02,   1.33000000e+00,   1.33000000e+00,\n",
       "          9.86500000e+01],\n",
       "       [  2.00000000e-02,   1.29000000e+00,   1.29000000e+00,\n",
       "          9.86900000e+01],\n",
       "       [  2.00000000e-02,   1.26000000e+00,   1.26000000e+00,\n",
       "          9.87200000e+01],\n",
       "       [  2.00000000e-02,   1.26000000e+00,   1.26000000e+00,\n",
       "          9.87200000e+01],\n",
       "       [  2.00000000e-02,   1.23000000e+00,   1.23000000e+00,\n",
       "          9.87500000e+01],\n",
       "       [  2.00000000e-02,   1.21000000e+00,   1.21000000e+00,\n",
       "          9.87700000e+01],\n",
       "       [  2.00000000e-02,   1.19000000e+00,   1.19000000e+00,\n",
       "          9.87900000e+01],\n",
       "       [  2.00000000e-02,   1.16000000e+00,   1.16000000e+00,\n",
       "          9.88200000e+01],\n",
       "       [  2.00000000e-02,   1.14000000e+00,   1.14000000e+00,\n",
       "          9.88400000e+01],\n",
       "       [  2.00000000e-02,   1.11000000e+00,   1.11000000e+00,\n",
       "          9.88700000e+01],\n",
       "       [  2.00000000e-02,   1.08000000e+00,   1.08000000e+00,\n",
       "          9.89000000e+01],\n",
       "       [  2.00000000e-02,   1.06000000e+00,   1.06000000e+00,\n",
       "          9.89200000e+01],\n",
       "       [  2.00000000e-02,   1.05000000e+00,   1.05000000e+00,\n",
       "          9.89300000e+01],\n",
       "       [  2.00000000e-02,   1.04000000e+00,   1.04000000e+00,\n",
       "          9.89400000e+01],\n",
       "       [  2.00000000e-02,   1.03000000e+00,   1.03000000e+00,\n",
       "          9.89500000e+01],\n",
       "       [  2.00000000e-02,   1.00000000e+00,   1.00000000e+00,\n",
       "          9.89800000e+01]])]"
      ]
     },
     "execution_count": 24,
     "metadata": {},
     "output_type": "execute_result"
    }
   ],
   "source": [
    "micro"
   ]
  },
  {
   "cell_type": "code",
   "execution_count": 83,
   "metadata": {
    "collapsed": false
   },
   "outputs": [
    {
     "data": {
      "text/plain": [
       "0"
      ]
     },
     "execution_count": 83,
     "metadata": {},
     "output_type": "execute_result"
    }
   ],
   "source": []
  },
  {
   "cell_type": "code",
   "execution_count": 86,
   "metadata": {
    "collapsed": false
   },
   "outputs": [
    {
     "data": {
      "text/plain": [
       "101"
      ]
     },
     "execution_count": 86,
     "metadata": {},
     "output_type": "execute_result"
    }
   ],
   "source": []
  },
  {
   "cell_type": "code",
   "execution_count": null,
   "metadata": {
    "collapsed": false
   },
   "outputs": [],
   "source": []
  },
  {
   "cell_type": "code",
   "execution_count": null,
   "metadata": {
    "collapsed": false
   },
   "outputs": [],
   "source": []
  },
  {
   "cell_type": "code",
   "execution_count": null,
   "metadata": {
    "collapsed": false
   },
   "outputs": [],
   "source": []
  },
  {
   "cell_type": "code",
   "execution_count": null,
   "metadata": {
    "collapsed": false
   },
   "outputs": [],
   "source": []
  },
  {
   "cell_type": "code",
   "execution_count": null,
   "metadata": {
    "collapsed": false
   },
   "outputs": [],
   "source": []
  },
  {
   "cell_type": "code",
   "execution_count": 13,
   "metadata": {
    "collapsed": false
   },
   "outputs": [],
   "source": [
    "pos = temp.get_particles(0,0)\n",
    "pos = pos['positions']\n"
   ]
  },
  {
   "cell_type": "code",
   "execution_count": null,
   "metadata": {
    "collapsed": false
   },
   "outputs": [],
   "source": [
    "\n"
   ]
  },
  {
   "cell_type": "code",
   "execution_count": 69,
   "metadata": {
    "collapsed": false
   },
   "outputs": [],
   "source": []
  },
  {
   "cell_type": "code",
   "execution_count": 90,
   "metadata": {
    "collapsed": false
   },
   "outputs": [],
   "source": [
    "\n",
    "outpos = []\n",
    "numtraj=50\n",
    "for i in range(0,numtraj):\n",
    "    out = solver.run()\n",
    "    pos = out.get_particles(3,50)\n",
    "    pos = pos['positions']\n",
    "    outpos.append(pos)"
   ]
  },
  {
   "cell_type": "code",
   "execution_count": 91,
   "metadata": {
    "collapsed": false
   },
   "outputs": [],
   "source": [
    "r = []\n",
    "for j in range(0,numtraj):\n",
    "    temp = outpos[j]\n",
    "    for i in range(0,len(temp)):\n",
    "        r.append(norm(temp[i]))\n",
    "    \n"
   ]
  },
  {
   "cell_type": "code",
   "execution_count": 92,
   "metadata": {
    "collapsed": false
   },
   "outputs": [
    {
     "name": "stdout",
     "output_type": "stream",
     "text": [
      "1063\n"
     ]
    },
    {
     "data": {
      "text/plain": [
       "(array([   5.,   13.,   20.,   43.,   61.,   92.,  111.,  151.,  190.,  377.]),\n",
       " array([ 0.03395741,  0.09218694,  0.15041647,  0.20864601,  0.26687554,\n",
       "        0.32510507,  0.3833346 ,  0.44156414,  0.49979367,  0.5580232 ,\n",
       "        0.61625273]),\n",
       " <a list of 10 Patch objects>)"
      ]
     },
     "execution_count": 92,
     "metadata": {},
     "output_type": "execute_result"
    },
    {
     "data": {
      "image/png": "[encoded data removed]",
      "text/plain": [
       "<matplotlib.figure.Figure at 0x7f586bdb88d0>"
      ]
     },
     "metadata": {},
     "output_type": "display_data"
    }
   ],
   "source": [
    "print len(r)\n",
    "plt.hist(r)"
   ]
  },
  {
   "cell_type": "code",
   "execution_count": 93,
   "metadata": {
    "collapsed": false
   },
   "outputs": [],
   "source": [
    "out2 = model.run()"
   ]
  },
  {
   "cell_type": "code",
   "execution_count": 94,
   "metadata": {
    "collapsed": false
   },
   "outputs": [
    {
     "name": "stdout",
     "output_type": "stream",
     "text": [
      "{'Status': 'Sucess', 'stdout': 'Ncells:3418 Mspecies: 4', 'tspan': None, 'sol': None, 'sol_initialized': False, 'filename': '/tmp/tmpoN4MCU', 'U': None, 'stderr': '', 'model': <__main__.Example2 instance at 0x7f5874618e60>, 'data_is_loaded': False}\n"
     ]
    }
   ],
   "source": [
    "print out2"
   ]
  },
  {
   "cell_type": "code",
   "execution_count": null,
   "metadata": {
    "collapsed": false
   },
   "outputs": [],
   "source": []
  }
 ],
 "metadata": {
  "kernelspec": {
   "display_name": "Python 2",
   "language": "python",
   "name": "python2"
  },
  "language_info": {
   "codemirror_mode": {
    "name": "ipython",
    "version": 2
   },
   "file_extension": ".py",
   "mimetype": "text/x-python",
   "name": "python",
   "nbconvert_exporter": "python",
   "pygments_lexer": "ipython2",
   "version": "2.7.12"
  }
 },
 "nbformat": 4,
 "nbformat_minor": 0
}
