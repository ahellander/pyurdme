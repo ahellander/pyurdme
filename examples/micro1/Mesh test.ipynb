{
 "metadata": {
  "name": ""
 },
 "nbformat": 3,
 "nbformat_minor": 0,
 "worksheets": [
  {
   "cells": [
    {
     "cell_type": "code",
     "collapsed": false,
     "input": [
      "import pyurdme\n",
      "from pyurdme import microsolver\n",
      "import math\n",
      "import numpy\n",
      "import time\n",
      "import matplotlib.pyplot as plt\n",
      "import mshr\n",
      "%matplotlib inline"
     ],
     "language": "python",
     "metadata": {},
     "outputs": [],
     "prompt_number": 3
    },
    {
     "cell_type": "code",
     "collapsed": false,
     "input": [
      "class Example2(pyurdme.URDMEModel):\n",
      "    \"\"\" The reversible reaction A+B<->C in 2D.  \"\"\"\n",
      "    \n",
      "    def __init__(self):\n",
      "        \n",
      "        pyurdme.URDMEModel.__init__(self,name=\"reversible\")\n",
      "\n",
      "        self.mesh = pyurdme.URDMEMesh.read_mesh('torus.msh')\n",
      "        "
     ],
     "language": "python",
     "metadata": {},
     "outputs": [],
     "prompt_number": 7
    },
    {
     "cell_type": "code",
     "collapsed": false,
     "input": [
      "model = Example2()"
     ],
     "language": "python",
     "metadata": {},
     "outputs": [],
     "prompt_number": 8
    },
    {
     "cell_type": "code",
     "collapsed": false,
     "input": [
      "model.mesh"
     ],
     "language": "python",
     "metadata": {},
     "outputs": [
      {
       "metadata": {},
       "output_type": "pyout",
       "prompt_number": 9,
       "text": [
        "<pyurdme.pyurdme.URDMEMesh; proxy of <Swig Object of type 'std::shared_ptr< dolfin::Mesh > *' at 0x7fe6bae1b0c0> >"
       ]
      }
     ],
     "prompt_number": 9
    },
    {
     "cell_type": "code",
     "collapsed": false,
     "input": [],
     "language": "python",
     "metadata": {},
     "outputs": []
    }
   ],
   "metadata": {}
  }
 ]
}