{
 "metadata": {
  "name": "",
  "signature": "sha256:751735bbcdeda96902dcd0c1f357de7ba3231c423b31a8396bf1cd080afa16d4"
 },
 "nbformat": 3,
 "nbformat_minor": 0,
 "worksheets": [
  {
   "cells": [
    {
     "cell_type": "code",
     "collapsed": false,
     "input": [
      "import dolfin\n",
      "import pyurdme\n",
      "import numpy\n",
      "import math\n",
      "import matplotlib.pyplot as plt\n",
      "\n",
      "# This is to get rid of annoying logging\n",
      "import logging\n",
      "handler= logging.root.handlers[0]\n",
      "handler.setLevel(logging.ERROR)\n",
      "\n",
      "import IPython.parallel\n",
      "import IPython.parallel.util\n",
      "rc = IPython.parallel.Client()\n",
      "rv = rc.load_balanced_view()\n"
     ],
     "language": "python",
     "metadata": {},
     "outputs": [],
     "prompt_number": 1
    },
    {
     "cell_type": "code",
     "collapsed": false,
     "input": [
      "from simple_diffusion import normal_diffusion"
     ],
     "language": "python",
     "metadata": {},
     "outputs": [],
     "prompt_number": 2
    },
    {
     "cell_type": "code",
     "collapsed": false,
     "input": [
      "# Total number of trajectories are num_chunks*chunk_size\n",
      "num_chunks=6\n",
      "chunk_size = 100\n",
      "# Create models on the distributed nodes\n",
      "models = rv.map(normal_diffusion, [\"simple_diffusion\"]*num_chunks)\n",
      "models.wait()        "
     ],
     "language": "python",
     "metadata": {},
     "outputs": [],
     "prompt_number": 4
    },
    {
     "cell_type": "code",
     "collapsed": false,
     "input": [
      "def run_many_nsm(model,chunk_size):\n",
      "    import pyurdme\n",
      "    from pyurdme.nsmsolver import NSMSolver\n",
      "    solver = NSMSolver(model)\n",
      "    return solver.run_ensemble(chunk_size)\n",
      "\n",
      "def run_many_nem(model,chunk_size):\n",
      "    import pyurdme\n",
      "    from pyurdme.nemsolver import NEMSolver\n",
      "    solver = NEMSolver(model,solver_path=\"/Users/andreash/bitbucket/nllattice/\")\n",
      "    return solver.run_ensemble(chunk_size)"
     ],
     "language": "python",
     "metadata": {},
     "outputs": [],
     "prompt_number": 3
    },
    {
     "cell_type": "code",
     "collapsed": false,
     "input": [
      "# Here is where pyurdme is executed in parallel \n",
      "%time results_nem = rv.map(run_many_nem, models,[chunk_size]*num_chunks); results_nem.wait();    "
     ],
     "language": "python",
     "metadata": {},
     "outputs": [
      {
       "ename": "CompositeError",
       "evalue": "one or more exceptions from call to method: normal_diffusion\n[4:apply]: NameError: global name 'pyurdme' is not defined",
       "output_type": "pyerr",
       "traceback": [
        "[4:apply]: ",
        "\u001b[0;31m---------------------------------------------------------------------------\u001b[0m",
        "\u001b[0;31mNameError\u001b[0m                                 Traceback (most recent call last)\u001b[0;32m<string>\u001b[0m in \u001b[0;36m<module>\u001b[0;34m()\u001b[0m",
        "\u001b[0;32m<ipython-input-1-762ac503ee4d>\u001b[0m in \u001b[0;36m__init__\u001b[0;34m(self, name)\u001b[0m",
        "\u001b[0;31mNameError\u001b[0m: global name 'pyurdme' is not defined",
        ""
       ]
      }
     ],
     "prompt_number": 4
    },
    {
     "cell_type": "code",
     "collapsed": false,
     "input": [
      "def msd(result):\n",
      "    A = result.getSpecies(\"A\")\n",
      "    \n",
      "    factor, p = result.model.mesh.scaledNormalizedCoordinates()\n",
      "    \n",
      "    dims = numpy.shape(A)\n",
      "    msd = numpy.zeros((1,dims[0]))\n",
      "    \n",
      "    dist = numpy.linalg.norm(p,ord=2,axis=1)\n",
      "    dist = numpy.power(dist,2)\n",
      "    \n",
      "    for time in range(dims[0]):\n",
      "        msd[0,time]=numpy.dot(dist,A[time,:])/numpy.sum(A[time, :])\n",
      "    \n",
      "    msd[0,0] = 0\n",
      "\n",
      "    return msd\n",
      "\n"
     ],
     "language": "python",
     "metadata": {},
     "outputs": []
    },
    {
     "cell_type": "code",
     "collapsed": false,
     "input": [
      "for i,result in enumerate(result_nem):\n",
      "    if i == 0:\n",
      "        msd2 = msd(result)\n",
      "    else:\n",
      "        msd2 += msd(result)\n",
      "    print i\n",
      "    msd2 = msd2.flatten()/N\n"
     ],
     "language": "python",
     "metadata": {},
     "outputs": []
    },
    {
     "cell_type": "code",
     "collapsed": false,
     "input": [
      "tspan = result_nem[0].model.tspan\n",
      "plt.plot(tspan, msd2)\n",
      "plt.show()"
     ],
     "language": "python",
     "metadata": {},
     "outputs": []
    }
   ],
   "metadata": {}
  }
 ]
}