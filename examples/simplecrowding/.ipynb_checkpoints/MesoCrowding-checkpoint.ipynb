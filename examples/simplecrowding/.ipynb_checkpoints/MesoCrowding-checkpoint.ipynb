{
 "metadata": {
  "kernelspec": {
   "codemirror_mode": {
    "name": "python",
    "version": 2
   },
   "display_name": "Python 2",
   "language": "python",
   "name": "python2"
  },
  "name": "",
  "signature": "sha256:7ff61a9dbdafaa84000ee1be0a9725ab8d279e068c1c790f5f35a4dc588b5e52"
 },
 "nbformat": 3,
 "nbformat_minor": 0,
 "worksheets": [
  {
   "cells": [
    {
     "cell_type": "code",
     "collapsed": false,
     "input": [
      "import dolfin\n",
      "import pyurdme\n",
      "import numpy\n",
      "import math\n",
      "import matplotlib.pyplot as plt\n",
      "import sys"
     ],
     "language": "python",
     "metadata": {},
     "outputs": [],
     "prompt_number": 1
    },
    {
     "cell_type": "code",
     "collapsed": false,
     "input": [
      "sys.path.append(\"/Users/andreash/bitbucket/nllattice\")\n",
      "class normal_diffusion(pyurdme.URDMEModel):\n",
      "    \"\"\" Initial condition is a delta function at the center voxel. \n",
      "        The solution should be a Gaussian, up to the point where\n",
      "        the BC becomes important. \"\"\"\n",
      "\n",
      "    def __init__(self,name=\"diffusion\"):\n",
      "    \n",
      "        pyurdme.URDMEModel.__init__(self,name=name)\n",
      "\n",
      "        D = 1e-3\n",
      "        A = pyurdme.Species(name=\"A\",reaction_radius=0.001,diffusion_constant=D)\n",
      "        \n",
      "        # Crowding agents\n",
      "        B = pyurdme.Species(name=\"B\",reaction_radius=0.001,diffusion_constant=D)\n",
      "        C = pyurdme.Species(name=\"C\",reaction_radius=0.0025,diffusion_constant=D)\n",
      "        D = pyurdme.Species(name=\"D\",reaction_radius=0.0050,diffusion_constant=D)\n",
      "\n",
      "        self.add_species([A,B,C,D])\n",
      "\n",
      "        # A (1x1) micrometer sidelength square\n",
      "        N = 60\n",
      "        L = 1\n",
      "        self.mesh = pyurdme.URDMEMesh.generate_square_mesh(L,N,N)\n",
      "        \n",
      "        # Place one A molecules in the voxel closest to the center of the square\n",
      "        self.set_initial_condition_place_near({A:1},point=numpy.array([0.5,0.5])*L)\n",
      "        \n",
      "        # Distribute crowders randomly in the domain.\n",
      "        self.set_initial_condition_scatter({B:500})\n",
      "        self.set_initial_condition_scatter({C:500})\n",
      "        self.set_initial_condition_scatter({D:1000})\n",
      "        \n",
      "        self.timespan(numpy.linspace(0,50,1000))\n"
     ],
     "language": "python",
     "metadata": {},
     "outputs": [],
     "prompt_number": 10
    },
    {
     "cell_type": "code",
     "collapsed": false,
     "input": [
      "def msd(result):\n",
      "    A = result.get_species(\"A\")\n",
      "    \n",
      "    factor, p = result.model.mesh.get_scaled_normalized_coordinates()\n",
      "    \n",
      "    dims = numpy.shape(A)\n",
      "    msd = numpy.zeros((1,dims[0]))\n",
      "    \n",
      "    dist = numpy.linalg.norm(p,ord=2,axis=1)\n",
      "    dist = numpy.power(dist,2)\n",
      "    \n",
      "    for time in range(dims[0]):\n",
      "        msd[0,time]=numpy.dot(dist,A[time,:])/numpy.sum(A[time, :])\n",
      "    \n",
      "    msd[0,0] = 0\n",
      "    return msd\n"
     ],
     "language": "python",
     "metadata": {},
     "outputs": [],
     "prompt_number": 3
    },
    {
     "cell_type": "code",
     "collapsed": false,
     "input": [
      "model = normal_diffusion()\n",
      "import nemsolver\n",
      "solver2 = nemsolver.NEMSolver(model, solver_path=\"/Users/andreash/bitbucket/nllattice/\")\n",
      "from pyurdme import nsmsolver\n",
      "solver = nsmsolver.NSMSolver(model) \n",
      "result = solver2.run()\n",
      "msd(result)[0][-1]\n",
      "#result.display(\"A\",999)"
     ],
     "language": "python",
     "metadata": {},
     "outputs": [
      {
       "metadata": {},
       "output_type": "pyout",
       "prompt_number": 68,
       "text": [
        "0.26138888888888889"
       ]
      }
     ],
     "prompt_number": 68
    },
    {
     "cell_type": "code",
     "collapsed": false,
     "input": [
      "N = 100\n",
      "for i in xrange(N):\n",
      "    try:\n",
      "        m = m+msd(solver.run())\n",
      "    except:\n",
      "        m = msd(solver.run())\n",
      "    #print i    \n",
      "m = m/N"
     ],
     "language": "python",
     "metadata": {},
     "outputs": []
    },
    {
     "cell_type": "code",
     "collapsed": false,
     "input": [
      "import nemsolver\n",
      "model = normal_diffusion()\n",
      "\n",
      "solver2 = nemsolver.NEMSolver(model, solver_path=\"/Users/andreash/bitbucket/nllattice/\")\n",
      "import time\n",
      "solver2.run()\n",
      "tic = time.time() \n",
      "for i in xrange(10):\n",
      "    solver2.run()\n",
      "print (time.time()-tic)/10"
     ],
     "language": "python",
     "metadata": {},
     "outputs": [
      {
       "output_type": "stream",
       "stream": "stdout",
       "text": [
        "1.23261630535\n"
       ]
      }
     ],
     "prompt_number": 8
    },
    {
     "cell_type": "code",
     "collapsed": false,
     "input": [
      "import nemsolver\n",
      "model = normal_diffusion()\n",
      "solver2 = nemsolver.NEMSolver(model, solver_path=\"/Users/andreash/bitbucket/nllattice/\")\n",
      "import time\n",
      "tic = time.time() \n",
      "N = 100\n",
      "for i in xrange(N):\n",
      "    if i==0:\n",
      "        m2 = msd(solver2.run())\n",
      "    else:\n",
      "        m2 = m2+msd(solver2.run())\n",
      "    print i    \n",
      "m2 = m2/N"
     ],
     "language": "python",
     "metadata": {},
     "outputs": [
      {
       "output_type": "stream",
       "stream": "stdout",
       "text": [
        "0\n",
        "1\n",
        "2\n",
        "3\n",
        "4\n",
        "5\n",
        "6\n",
        "7\n",
        "8\n",
        "9\n",
        "10\n",
        "11\n",
        "12\n",
        "13\n",
        "14\n",
        "15\n",
        "16\n",
        "17\n",
        "18\n",
        "19\n",
        "20\n",
        "21\n",
        "22\n",
        "23\n",
        "24\n",
        "25\n",
        "26\n",
        "27\n",
        "28\n",
        "29\n",
        "30\n",
        "31\n",
        "32\n",
        "33\n",
        "34\n",
        "35\n",
        "36\n",
        "37\n"
       ]
      },
      {
       "ename": "KeyboardInterrupt",
       "evalue": "",
       "output_type": "pyerr",
       "traceback": [
        "\u001b[0;31m---------------------------------------------------------------------------\u001b[0m",
        "\u001b[0;31mKeyboardInterrupt\u001b[0m                         Traceback (most recent call last)",
        "\u001b[0;32m<ipython-input-11-7f89b6d559f2>\u001b[0m in \u001b[0;36m<module>\u001b[0;34m()\u001b[0m\n\u001b[1;32m      9\u001b[0m         \u001b[0mm2\u001b[0m \u001b[0;34m=\u001b[0m \u001b[0mmsd\u001b[0m\u001b[0;34m(\u001b[0m\u001b[0msolver2\u001b[0m\u001b[0;34m.\u001b[0m\u001b[0mrun\u001b[0m\u001b[0;34m(\u001b[0m\u001b[0;34m)\u001b[0m\u001b[0;34m)\u001b[0m\u001b[0;34m\u001b[0m\u001b[0m\n\u001b[1;32m     10\u001b[0m     \u001b[0;32melse\u001b[0m\u001b[0;34m:\u001b[0m\u001b[0;34m\u001b[0m\u001b[0m\n\u001b[0;32m---> 11\u001b[0;31m         \u001b[0mm2\u001b[0m \u001b[0;34m=\u001b[0m \u001b[0mm2\u001b[0m\u001b[0;34m+\u001b[0m\u001b[0mmsd\u001b[0m\u001b[0;34m(\u001b[0m\u001b[0msolver2\u001b[0m\u001b[0;34m.\u001b[0m\u001b[0mrun\u001b[0m\u001b[0;34m(\u001b[0m\u001b[0;34m)\u001b[0m\u001b[0;34m)\u001b[0m\u001b[0;34m\u001b[0m\u001b[0m\n\u001b[0m\u001b[1;32m     12\u001b[0m     \u001b[0;32mprint\u001b[0m \u001b[0mi\u001b[0m\u001b[0;34m\u001b[0m\u001b[0m\n\u001b[1;32m     13\u001b[0m \u001b[0mm2\u001b[0m \u001b[0;34m=\u001b[0m \u001b[0mm2\u001b[0m\u001b[0;34m/\u001b[0m\u001b[0mN\u001b[0m\u001b[0;34m\u001b[0m\u001b[0m\n",
        "\u001b[0;32m/Library/Python/2.7/site-packages/pyurdme-1.0.1-py2.7.egg/pyurdme/pyurdme.pyc\u001b[0m in \u001b[0;36mrun\u001b[0;34m(self, number_of_trajectories, seed, input_file, loaddata)\u001b[0m\n\u001b[1;32m   2047\u001b[0m                 \u001b[0;32melse\u001b[0m\u001b[0;34m:\u001b[0m\u001b[0;34m\u001b[0m\u001b[0m\n\u001b[1;32m   2048\u001b[0m                     \u001b[0mhandle\u001b[0m \u001b[0;34m=\u001b[0m \u001b[0msubprocess\u001b[0m\u001b[0;34m.\u001b[0m\u001b[0mPopen\u001b[0m\u001b[0;34m(\u001b[0m\u001b[0murdme_solver_cmd\u001b[0m\u001b[0;34m,\u001b[0m \u001b[0mstderr\u001b[0m\u001b[0;34m=\u001b[0m\u001b[0msubprocess\u001b[0m\u001b[0;34m.\u001b[0m\u001b[0mPIPE\u001b[0m\u001b[0;34m,\u001b[0m \u001b[0mstdout\u001b[0m\u001b[0;34m=\u001b[0m\u001b[0msubprocess\u001b[0m\u001b[0;34m.\u001b[0m\u001b[0mPIPE\u001b[0m\u001b[0;34m)\u001b[0m\u001b[0;34m\u001b[0m\u001b[0m\n\u001b[0;32m-> 2049\u001b[0;31m                 \u001b[0mreturn_code\u001b[0m \u001b[0;34m=\u001b[0m \u001b[0mhandle\u001b[0m\u001b[0;34m.\u001b[0m\u001b[0mwait\u001b[0m\u001b[0;34m(\u001b[0m\u001b[0;34m)\u001b[0m\u001b[0;34m\u001b[0m\u001b[0m\n\u001b[0m\u001b[1;32m   2050\u001b[0m             \u001b[0;32mexcept\u001b[0m \u001b[0mOSError\u001b[0m \u001b[0;32mas\u001b[0m \u001b[0me\u001b[0m\u001b[0;34m:\u001b[0m\u001b[0;34m\u001b[0m\u001b[0m\n\u001b[1;32m   2051\u001b[0m                 \u001b[0;32mprint\u001b[0m \u001b[0;34m\"Error, execution of solver raised an exception: {0}\"\u001b[0m\u001b[0;34m.\u001b[0m\u001b[0mformat\u001b[0m\u001b[0;34m(\u001b[0m\u001b[0me\u001b[0m\u001b[0;34m)\u001b[0m\u001b[0;34m\u001b[0m\u001b[0m\n",
        "\u001b[0;32m/System/Library/Frameworks/Python.framework/Versions/2.7/lib/python2.7/subprocess.pyc\u001b[0m in \u001b[0;36mwait\u001b[0;34m(self)\u001b[0m\n\u001b[1;32m   1355\u001b[0m             \u001b[0;32mwhile\u001b[0m \u001b[0mself\u001b[0m\u001b[0;34m.\u001b[0m\u001b[0mreturncode\u001b[0m \u001b[0;32mis\u001b[0m \u001b[0mNone\u001b[0m\u001b[0;34m:\u001b[0m\u001b[0;34m\u001b[0m\u001b[0m\n\u001b[1;32m   1356\u001b[0m                 \u001b[0;32mtry\u001b[0m\u001b[0;34m:\u001b[0m\u001b[0;34m\u001b[0m\u001b[0m\n\u001b[0;32m-> 1357\u001b[0;31m                     \u001b[0mpid\u001b[0m\u001b[0;34m,\u001b[0m \u001b[0msts\u001b[0m \u001b[0;34m=\u001b[0m \u001b[0m_eintr_retry_call\u001b[0m\u001b[0;34m(\u001b[0m\u001b[0mos\u001b[0m\u001b[0;34m.\u001b[0m\u001b[0mwaitpid\u001b[0m\u001b[0;34m,\u001b[0m \u001b[0mself\u001b[0m\u001b[0;34m.\u001b[0m\u001b[0mpid\u001b[0m\u001b[0;34m,\u001b[0m \u001b[0;36m0\u001b[0m\u001b[0;34m)\u001b[0m\u001b[0;34m\u001b[0m\u001b[0m\n\u001b[0m\u001b[1;32m   1358\u001b[0m                 \u001b[0;32mexcept\u001b[0m \u001b[0mOSError\u001b[0m \u001b[0;32mas\u001b[0m \u001b[0me\u001b[0m\u001b[0;34m:\u001b[0m\u001b[0;34m\u001b[0m\u001b[0m\n\u001b[1;32m   1359\u001b[0m                     \u001b[0;32mif\u001b[0m \u001b[0me\u001b[0m\u001b[0;34m.\u001b[0m\u001b[0merrno\u001b[0m \u001b[0;34m!=\u001b[0m \u001b[0merrno\u001b[0m\u001b[0;34m.\u001b[0m\u001b[0mECHILD\u001b[0m\u001b[0;34m:\u001b[0m\u001b[0;34m\u001b[0m\u001b[0m\n",
        "\u001b[0;32m/System/Library/Frameworks/Python.framework/Versions/2.7/lib/python2.7/subprocess.pyc\u001b[0m in \u001b[0;36m_eintr_retry_call\u001b[0;34m(func, *args)\u001b[0m\n\u001b[1;32m    476\u001b[0m     \u001b[0;32mwhile\u001b[0m \u001b[0mTrue\u001b[0m\u001b[0;34m:\u001b[0m\u001b[0;34m\u001b[0m\u001b[0m\n\u001b[1;32m    477\u001b[0m         \u001b[0;32mtry\u001b[0m\u001b[0;34m:\u001b[0m\u001b[0;34m\u001b[0m\u001b[0m\n\u001b[0;32m--> 478\u001b[0;31m             \u001b[0;32mreturn\u001b[0m \u001b[0mfunc\u001b[0m\u001b[0;34m(\u001b[0m\u001b[0;34m*\u001b[0m\u001b[0margs\u001b[0m\u001b[0;34m)\u001b[0m\u001b[0;34m\u001b[0m\u001b[0m\n\u001b[0m\u001b[1;32m    479\u001b[0m         \u001b[0;32mexcept\u001b[0m \u001b[0;34m(\u001b[0m\u001b[0mOSError\u001b[0m\u001b[0;34m,\u001b[0m \u001b[0mIOError\u001b[0m\u001b[0;34m)\u001b[0m \u001b[0;32mas\u001b[0m \u001b[0me\u001b[0m\u001b[0;34m:\u001b[0m\u001b[0;34m\u001b[0m\u001b[0m\n\u001b[1;32m    480\u001b[0m             \u001b[0;32mif\u001b[0m \u001b[0me\u001b[0m\u001b[0;34m.\u001b[0m\u001b[0merrno\u001b[0m \u001b[0;34m==\u001b[0m \u001b[0merrno\u001b[0m\u001b[0;34m.\u001b[0m\u001b[0mEINTR\u001b[0m\u001b[0;34m:\u001b[0m\u001b[0;34m\u001b[0m\u001b[0m\n",
        "\u001b[0;31mKeyboardInterrupt\u001b[0m: "
       ]
      }
     ],
     "prompt_number": 11
    },
    {
     "cell_type": "code",
     "collapsed": false,
     "input": [
      "%pylab inline\n",
      "\n",
      "import pickle\n",
      "import numpy\n",
      "f = open('tempfile')\n",
      "dat = pickle.load(f)\n",
      "print numpy.size(numpy.mean(dat, axis=0))\n",
      "f.close()\n",
      "import matplotlib.pyplot as plt\n",
      "plt.plot(numpy.linspace(0,10,101),numpy.mean(dat, axis=0),label=\"RBD\")\n",
      "\n",
      "\n",
      "#plt.plot(model.tspan, m[0],label=\"NSM\")\n",
      "plt.plot(model.tspan, m2[0],label=\"NEM\")\n",
      "plt.legend(loc=4)\n",
      "plt.xlabel(\"Time [s]\")\n",
      "plt.ylabel(\"MSD\")\n",
      "\n",
      "from scipy import stats\n",
      "start =1\n",
      "stop = 1000\n",
      "msd2 = m2[0]\n",
      "tspan=model.tspan\n",
      "alpha2 = stats.linregress(numpy.log10(tspan[start:stop:]),numpy.log10(msd2[start:stop:]))\n",
      "#print \"NEM: alpha: \", alpha2[0], \"Effective diffusion constant:\", pow(10,alpha2[1])/4\n",
      "plt.title(\"Effective diffusion constant: {0}\".format(pow(10,alpha2[1])/4))"
     ],
     "language": "python",
     "metadata": {},
     "outputs": [
      {
       "output_type": "stream",
       "stream": "stdout",
       "text": [
        "Populating the interactive namespace from numpy and matplotlib\n",
        "101\n"
       ]
      },
      {
       "metadata": {},
       "output_type": "pyout",
       "prompt_number": 12,
       "text": [
        "<matplotlib.text.Text at 0x11340db90>"
       ]
      },
      {
       "metadata": {},
       "output_type": "display_data",
       "png": "[encoded data removed]",
       "text": [
        "<matplotlib.figure.Figure at 0x112427a50>"
       ]
      }
     ],
     "prompt_number": 12
    },
    {
     "cell_type": "code",
     "collapsed": false,
     "input": [],
     "language": "python",
     "metadata": {},
     "outputs": []
    }
   ],
   "metadata": {}
  }
 ]
}