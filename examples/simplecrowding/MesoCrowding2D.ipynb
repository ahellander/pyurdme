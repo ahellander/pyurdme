{
 "cells": [
  {
   "cell_type": "code",
   "execution_count": 3,
   "metadata": {
    "collapsed": false
   },
   "outputs": [
    {
     "ename": "ImportError",
     "evalue": "dlopen(/Applications/FEniCS.app/Contents/Resources/lib/python2.7/site-packages/dolfin/cpp/_common.so, 2): Library not loaded: libdolfin.1.6.dylib\n  Referenced from: /Applications/FEniCS.app/Contents/Resources/lib/python2.7/site-packages/dolfin/cpp/_common.so\n  Reason: image not found",
     "output_type": "error",
     "traceback": [
      "\u001b[0;31m---------------------------------------------------------------------------\u001b[0m\n\u001b[0;31mImportError\u001b[0m                               Traceback (most recent call last)",
      "\u001b[0;32m<ipython-input-3-de0c3829e88a>\u001b[0m in \u001b[0;36m<module>\u001b[0;34m()\u001b[0m\n\u001b[0;32m----> 1\u001b[0;31m \u001b[0;32mimport\u001b[0m \u001b[0mdolfin\u001b[0m\u001b[0;34m\u001b[0m\u001b[0m\n\u001b[0m\u001b[1;32m      2\u001b[0m \u001b[0;32mimport\u001b[0m \u001b[0mpyurdme\u001b[0m\u001b[0;34m\u001b[0m\u001b[0m\n\u001b[1;32m      3\u001b[0m \u001b[0;32mimport\u001b[0m \u001b[0mnumpy\u001b[0m\u001b[0;34m\u001b[0m\u001b[0m\n\u001b[1;32m      4\u001b[0m \u001b[0;32mimport\u001b[0m \u001b[0mmath\u001b[0m\u001b[0;34m\u001b[0m\u001b[0m\n\u001b[1;32m      5\u001b[0m \u001b[0;32mimport\u001b[0m \u001b[0mmatplotlib\u001b[0m\u001b[0;34m.\u001b[0m\u001b[0mpyplot\u001b[0m \u001b[0;32mas\u001b[0m \u001b[0mplt\u001b[0m\u001b[0;34m\u001b[0m\u001b[0m\n",
      "\u001b[0;32m/Applications/FEniCS.app/Contents/Resources/lib/python2.7/site-packages/dolfin/__init__.pyc\u001b[0m in \u001b[0;36m<module>\u001b[0;34m()\u001b[0m\n\u001b[1;32m     14\u001b[0m \u001b[0;34m\u001b[0m\u001b[0m\n\u001b[1;32m     15\u001b[0m \u001b[0;31m# Import names from the compiled cpp modules\u001b[0m\u001b[0;34m\u001b[0m\u001b[0;34m\u001b[0m\u001b[0m\n\u001b[0;32m---> 16\u001b[0;31m \u001b[0;32mfrom\u001b[0m \u001b[0;34m.\u001b[0m \u001b[0;32mimport\u001b[0m \u001b[0mcpp\u001b[0m\u001b[0;34m\u001b[0m\u001b[0m\n\u001b[0m\u001b[1;32m     17\u001b[0m \u001b[0;32mfrom\u001b[0m \u001b[0mdolfin\u001b[0m\u001b[0;34m.\u001b[0m\u001b[0mcpp\u001b[0m \u001b[0;32mimport\u001b[0m \u001b[0;34m*\u001b[0m\u001b[0;34m\u001b[0m\u001b[0m\n\u001b[1;32m     18\u001b[0m \u001b[0;32mfrom\u001b[0m \u001b[0mdolfin\u001b[0m\u001b[0;34m.\u001b[0m\u001b[0mcpp\u001b[0m \u001b[0;32mimport\u001b[0m \u001b[0m__version__\u001b[0m\u001b[0;34m,\u001b[0m \u001b[0m__swigversion__\u001b[0m\u001b[0;34m,\u001b[0m \u001b[0m__pythonversion__\u001b[0m\u001b[0;34m\u001b[0m\u001b[0m\n",
      "\u001b[0;32m/Applications/FEniCS.app/Contents/Resources/lib/python2.7/site-packages/dolfin/cpp/__init__.py\u001b[0m in \u001b[0;36m<module>\u001b[0;34m()\u001b[0m\n\u001b[1;32m     40\u001b[0m \u001b[0;34m\u001b[0m\u001b[0m\n\u001b[1;32m     41\u001b[0m     \u001b[0;31m# Import the module\u001b[0m\u001b[0;34m\u001b[0m\u001b[0;34m\u001b[0m\u001b[0m\n\u001b[0;32m---> 42\u001b[0;31m     \u001b[0;32mexec\u001b[0m\u001b[0;34m(\u001b[0m\u001b[0;34m\"from . import %s\"\u001b[0m \u001b[0;34m%\u001b[0m \u001b[0mmodule_name\u001b[0m\u001b[0;34m)\u001b[0m\u001b[0;34m\u001b[0m\u001b[0m\n\u001b[0m\u001b[1;32m     43\u001b[0m     \u001b[0mmodule\u001b[0m \u001b[0;34m=\u001b[0m \u001b[0mglobals\u001b[0m\u001b[0;34m(\u001b[0m\u001b[0;34m)\u001b[0m\u001b[0;34m[\u001b[0m\u001b[0mmodule_name\u001b[0m\u001b[0;34m]\u001b[0m\u001b[0;34m\u001b[0m\u001b[0m\n\u001b[1;32m     44\u001b[0m \u001b[0;34m\u001b[0m\u001b[0m\n",
      "\u001b[0;32m<string>\u001b[0m in \u001b[0;36m<module>\u001b[0;34m()\u001b[0m\n",
      "\u001b[0;32m/Applications/FEniCS.app/Contents/Resources/lib/python2.7/site-packages/dolfin/cpp/common.py\u001b[0m in \u001b[0;36m<module>\u001b[0;34m()\u001b[0m\n\u001b[1;32m     30\u001b[0m                 \u001b[0mfp\u001b[0m\u001b[0;34m.\u001b[0m\u001b[0mclose\u001b[0m\u001b[0;34m(\u001b[0m\u001b[0;34m)\u001b[0m\u001b[0;34m\u001b[0m\u001b[0m\n\u001b[1;32m     31\u001b[0m             \u001b[0;32mreturn\u001b[0m \u001b[0m_mod\u001b[0m\u001b[0;34m\u001b[0m\u001b[0m\n\u001b[0;32m---> 32\u001b[0;31m     \u001b[0m_common\u001b[0m \u001b[0;34m=\u001b[0m \u001b[0mswig_import_helper\u001b[0m\u001b[0;34m(\u001b[0m\u001b[0;34m)\u001b[0m\u001b[0;34m\u001b[0m\u001b[0m\n\u001b[0m\u001b[1;32m     33\u001b[0m     \u001b[0;32mdel\u001b[0m \u001b[0mswig_import_helper\u001b[0m\u001b[0;34m\u001b[0m\u001b[0m\n\u001b[1;32m     34\u001b[0m \u001b[0;32melse\u001b[0m\u001b[0;34m:\u001b[0m\u001b[0;34m\u001b[0m\u001b[0m\n",
      "\u001b[0;32m/Applications/FEniCS.app/Contents/Resources/lib/python2.7/site-packages/dolfin/cpp/common.py\u001b[0m in \u001b[0;36mswig_import_helper\u001b[0;34m()\u001b[0m\n\u001b[1;32m     26\u001b[0m         \u001b[0;32mif\u001b[0m \u001b[0mfp\u001b[0m \u001b[0;32mis\u001b[0m \u001b[0;32mnot\u001b[0m \u001b[0mNone\u001b[0m\u001b[0;34m:\u001b[0m\u001b[0;34m\u001b[0m\u001b[0m\n\u001b[1;32m     27\u001b[0m             \u001b[0;32mtry\u001b[0m\u001b[0;34m:\u001b[0m\u001b[0;34m\u001b[0m\u001b[0m\n\u001b[0;32m---> 28\u001b[0;31m                 \u001b[0m_mod\u001b[0m \u001b[0;34m=\u001b[0m \u001b[0mimp\u001b[0m\u001b[0;34m.\u001b[0m\u001b[0mload_module\u001b[0m\u001b[0;34m(\u001b[0m\u001b[0;34m'_common'\u001b[0m\u001b[0;34m,\u001b[0m \u001b[0mfp\u001b[0m\u001b[0;34m,\u001b[0m \u001b[0mpathname\u001b[0m\u001b[0;34m,\u001b[0m \u001b[0mdescription\u001b[0m\u001b[0;34m)\u001b[0m\u001b[0;34m\u001b[0m\u001b[0m\n\u001b[0m\u001b[1;32m     29\u001b[0m             \u001b[0;32mfinally\u001b[0m\u001b[0;34m:\u001b[0m\u001b[0;34m\u001b[0m\u001b[0m\n\u001b[1;32m     30\u001b[0m                 \u001b[0mfp\u001b[0m\u001b[0;34m.\u001b[0m\u001b[0mclose\u001b[0m\u001b[0;34m(\u001b[0m\u001b[0;34m)\u001b[0m\u001b[0;34m\u001b[0m\u001b[0m\n",
      "\u001b[0;31mImportError\u001b[0m: dlopen(/Applications/FEniCS.app/Contents/Resources/lib/python2.7/site-packages/dolfin/cpp/_common.so, 2): Library not loaded: libdolfin.1.6.dylib\n  Referenced from: /Applications/FEniCS.app/Contents/Resources/lib/python2.7/site-packages/dolfin/cpp/_common.so\n  Reason: image not found"
     ]
    }
   ],
   "source": [
    "import dolfin\n",
    "import pyurdme\n",
    "import numpy\n",
    "import math\n",
    "import matplotlib.pyplot as plt\n",
    "import sys\n",
    "from scipy import stats\n",
    "import pickle"
   ]
  },
  {
   "cell_type": "code",
   "execution_count": 2,
   "metadata": {
    "collapsed": false
   },
   "outputs": [],
   "source": [
    "sys.path.append(\"/Users/andreash/bitbucket/nllattice\")\n",
    "class normal_diffusion(pyurdme.URDMEModel):\n",
    "    \"\"\" Initial condition is a delta function at the center voxel. \n",
    "        The solution should be a Gaussian, up to the point where\n",
    "        the BC becomes important. \"\"\"\n",
    "\n",
    "    def __init__(self,name=\"diffusion\",rho=0.1,nx=40):\n",
    "    \n",
    "        pyurdme.URDMEModel.__init__(self,name=name)\n",
    "\n",
    "        D = 0.5\n",
    "        R = 1.0\n",
    "        A = pyurdme.Species(name=\"A\",reaction_radius=R,diffusion_constant=D)\n",
    "        \n",
    "        # Crowding agents\n",
    "        B = pyurdme.Species(name=\"B\",reaction_radius=R,diffusion_constant=D)\n",
    "        #C = pyurdme.Species(name=\"C\",reaction_radius=0.0025,diffusion_constant=0)\n",
    "        #D = pyurdme.Species(name=\"D\",reaction_radius=0.0050,diffusion_constant=D)\n",
    "        #N = 2000\n",
    "        \n",
    "        L = 100\n",
    "        V = L**2\n",
    "        N = int(V*rho/(math.pi*R**2))\n",
    "        \n",
    "        self.add_species([A,B])\n",
    "\n",
    "        # A (1x1) micrometer sidelength square\n",
    "        print (L/nx)/(math.pi)\n",
    "        #self.mesh = pyurdme.URDMEMesh.generate_square_mesh(L,nx,nx)\n",
    "        domain = dolfin.Rectangle(0,0,L,L)\n",
    "        self.mesh = pyurdme.URDMEMesh(mesh=dolfin.Mesh(domain,nx))\n",
    "\n",
    "        # Place one A molecules in the voxel closest to the center of the square\n",
    "        self.set_initial_condition_place_near({A:1},point=numpy.array([0.5,0.5])*L)\n",
    "        \n",
    "        # Distribute crowders randomly in the domain.\n",
    "        self.set_initial_condition_scatter({B:N})\n",
    "        #self.set_initial_condition_scatter({C:500})\n",
    "        #self.set_initial_condition_scatter({D:1000})\n",
    "        \n",
    "        self.timespan(numpy.linspace(0,50,1000))\n"
   ]
  },
  {
   "cell_type": "code",
   "execution_count": 3,
   "metadata": {
    "collapsed": false
   },
   "outputs": [
    {
     "name": "stdout",
     "output_type": "stream",
     "text": [
      "0.4 1273\n"
     ]
    }
   ],
   "source": [
    "rho = 0.4\n",
    "(100/60.0)**2/(math.pi)\n",
    "L = 100\n",
    "V = L**2\n",
    "R = 1\n",
    "N = int(V*rho/(math.pi*R**2))\n",
    "print rho,N"
   ]
  },
  {
   "cell_type": "code",
   "execution_count": 9,
   "metadata": {
    "collapsed": false
   },
   "outputs": [],
   "source": [
    "def msd(result):\n",
    "    A = result.get_species(\"A\")\n",
    "    \n",
    "    p = result.model.mesh.get_normalized_coordinates()\n",
    "    \n",
    "    dims = numpy.shape(A)\n",
    "    msd = numpy.zeros((1,dims[0]))\n",
    "    \n",
    "    dist = numpy.linalg.norm(p,ord=2,axis=1)\n",
    "    dist = numpy.power(dist,2)\n",
    "    \n",
    "    for time in range(dims[0]):\n",
    "        msd[0,time]=numpy.dot(dist,A[time,:])/numpy.sum(A[time, :])\n",
    "    \n",
    "    msd[0,0] = 0\n",
    "    return msd"
   ]
  },
  {
   "cell_type": "code",
   "execution_count": 9,
   "metadata": {
    "collapsed": false
   },
   "outputs": [
    {
     "name": "stdout",
     "output_type": "stream",
     "text": [
      "Populating the interactive namespace from numpy and matplotlib\n",
      "0.636619772368\n"
     ]
    }
   ],
   "source": [
    "%pylab inline\n",
    "from scipy import stats\n",
    "import pickle\n",
    "import nemsolver\n",
    "\n",
    "def es_d(model):\n",
    "    solver2 = nemsolver.NEMSolver(model, solver_path=\"/Users/andreash/bitbucket/nllattice/\")\n",
    "    N = 1000\n",
    "    for i in xrange(N):\n",
    "        if i==0:\n",
    "            m2 = msd(solver2.run())\n",
    "        else:\n",
    "            m2 = m2+msd(solver2.run())\n",
    "    m2 = m2/N\n",
    "    msd2 = m2[0]\n",
    "    return msd2\n",
    "   \n",
    "rhos = [0.01,0.1,0.2,0.3]\n",
    "rhos=[0.3]\n",
    "d = []\n",
    "emsds = []\n",
    "for rho in rhos:\n",
    "    model = normal_diffusion(rho=rho, nx=40)\n",
    "    emsd = es_d(model)\n",
    "    emsds.append(emsd)\n",
    "# result[rho] = emsd\n",
    "result = {'rhos':rhos, 'msds':emsds,'tspan':model.tspan}\n",
    "     \n",
    "fh = open(\"data/test.pyb\", \"wb\")\n",
    "fh.write(pickle.dumps(result))"
   ]
  },
  {
   "cell_type": "code",
   "execution_count": 5,
   "metadata": {
    "collapsed": false
   },
   "outputs": [
    {
     "name": "stderr",
     "output_type": "stream",
     "text": [
      "DEBUG:UFL:No integrals left after transformation, returning empty form.\n",
      "DEBUG:FFC:Reusing form from cache.\n"
     ]
    },
    {
     "name": "stdout",
     "output_type": "stream",
     "text": [
      "0.636619772368\n"
     ]
    }
   ],
   "source": [
    "model=normal_diffusion()"
   ]
  },
  {
   "cell_type": "code",
   "execution_count": 9,
   "metadata": {
    "collapsed": false
   },
   "outputs": [
    {
     "name": "stdout",
     "output_type": "stream",
     "text": [
      "Populating the interactive namespace from numpy and matplotlib\n",
      "[0.46914776225366916, 0.30809624134191582, 0.22064300899425945, 0.13367656360025137]\n"
     ]
    },
    {
     "data": {
      "text/plain": [
       "[<matplotlib.lines.Line2D at 0x11cf42e90>]"
      ]
     },
     "execution_count": 9,
     "metadata": {},
     "output_type": "execute_result"
    },
    {
     "data": {
      "image/png": "[encoded data removed]",
      "text/plain": [
       "<matplotlib.figure.Figure at 0x11cc83a10>"
      ]
     },
     "metadata": {},
     "output_type": "display_data"
    }
   ],
   "source": [
    "import pickle\n",
    "%pylab inline\n",
    "fn = \"meso_2D_nx20\"\n",
    "fh = open(\"data/meso_2D_nx10_tf50s_ntraj50k.pyb\",\"r\")\n",
    "#fh = open(\"data/test.pyb\")\n",
    "res = pickle.load(fh)\n",
    "msds = res['msds']\n",
    "#print msds[0]\n",
    "rhos = res['rhos']\n",
    "#model = res['model']\n",
    "\n",
    "import json\n",
    "for_ben = {}\n",
    "for_ben[\"tspan\"] = list(model.tspan)\n",
    "for_ben[\"rho01\"]=list(msds[0])\n",
    "#with open(\"for_ben.json\",'wb') as fh:\n",
    " #   fh.write(json.dumps(for_ben))\n",
    "\n",
    "deff = []\n",
    "d = []\n",
    "for i,rho in enumerate(rhos):\n",
    "    plt.plot(model.tspan, msds[i])\n",
    "    \n",
    "    # Estimate effective long-time diffusion constant\n",
    "    start = 1\n",
    "    stop = -1\n",
    "    alpha2 = stats.linregress(model.tspan[start:stop:],msds[i][start:stop:])\n",
    "    d.append(alpha2[0]/4.0)\n",
    "\n",
    "l = []\n",
    "for rho in rhos:\n",
    "    l.append(\"rho = {0}\".format(rho))\n",
    "plt.legend(l, loc=0)\n",
    "plt.title(fn)\n",
    "plt.xlabel(\"time [s]\")\n",
    "plt.ylabel(\"MSD\")\n",
    "# Effective diffusion constants\n",
    "print d\n",
    "plt.plot(rhos,d)"
   ]
  },
  {
   "cell_type": "code",
   "execution_count": null,
   "metadata": {
    "collapsed": false
   },
   "outputs": [],
   "source": []
  },
  {
   "cell_type": "raw",
   "metadata": {},
   "source": []
  }
 ],
 "metadata": {
  "kernelspec": {
   "display_name": "Python 2",
   "language": "python",
   "name": "python2"
  },
  "language_info": {
   "name": "python",
   "version": "2.7.10"
  }
 },
 "nbformat": 4,
 "nbformat_minor": 0
}
