{
 "metadata": {
  "kernelspec": {
   "codemirror_mode": {
    "name": "python",
    "version": 2
   },
   "display_name": "Python 2",
   "language": "python",
   "name": "python2"
  },
  "name": "",
  "signature": "sha256:65c45a22f073dc033bb42cd7f42e02ac0d9604fdc4e1af08ea18d65db22aad3c"
 },
 "nbformat": 3,
 "nbformat_minor": 0,
 "worksheets": [
  {
   "cells": [
    {
     "cell_type": "code",
     "collapsed": false,
     "input": [
      "import dolfin\n",
      "import pyurdme\n",
      "import numpy\n",
      "import math\n",
      "import matplotlib.pyplot as plt\n",
      "import sys"
     ],
     "language": "python",
     "metadata": {},
     "outputs": []
    },
    {
     "cell_type": "code",
     "collapsed": false,
     "input": [
      "1e7 ** (1/3.0)"
     ],
     "language": "python",
     "metadata": {},
     "outputs": []
    },
    {
     "cell_type": "code",
     "collapsed": false,
     "input": [
      "sys.path.append(\"/Users/andreash/bitbucket/nllattice\")\n",
      "class normal_diffusion(pyurdme.URDMEModel):\n",
      "    \"\"\" Initial condition is a delta function at the center voxel. \n",
      "        The solution should be a Gaussian, up to the point where\n",
      "        the BC becomes important. \"\"\"\n",
      "\n",
      "    def __init__(self,name=\"diffusion\",rho=0.001):\n",
      "    \n",
      "        pyurdme.URDMEModel.__init__(self,name=name)\n",
      "\n",
      "        D = 0.5\n",
      "        R = 1.0\n",
      "        A = pyurdme.Species(name=\"A\",reaction_radius=R,diffusion_constant=D)\n",
      "        \n",
      "        # Crowding agents\n",
      "        B = pyurdme.Species(name=\"B\",reaction_radius=R,diffusion_constant=D)\n",
      "       #C = pyurdme.Species(name=\"C\",reaction_radius=0.0025,diffusion_constant=D)\n",
      "       # D = pyurdme.Species(name=\"D\",reaction_radius=0.0050,diffusion_constant=D)\n",
      "\n",
      "        self.add_species([A,B])\n",
      "\n",
      "        # A (1x1) micrometer sidelength square\n",
      "        N = 512\n",
      "        V = (2.0*R)**3.0*N/rho\n",
      "        \n",
      "        L = V ** (1/3.0)\n",
      "        print L\n",
      "        nx = 20\n",
      "        self.mesh = pyurdme.URDMEMesh.generate_cube_mesh(L,nx,nx,nx)\n",
      "        \n",
      "        # Place one A molecules in the voxel closest to the center of the square\n",
      "        self.set_initial_condition_place_near({A:1},point=numpy.array([0.5,0.5,0.5])*L)\n",
      "        \n",
      "        # Distribute crowders randomly in the domain.\n",
      "        self.set_initial_condition_scatter({B:N})\n",
      "        #self.set_initial_condition_scatter({C:500})\n",
      "        #self.set_initial_condition_scatter({D:1000})\n",
      "        \n",
      "        self.timespan(numpy.linspace(0,200,1000))\n"
     ],
     "language": "python",
     "metadata": {},
     "outputs": [],
     "prompt_number": 17
    },
    {
     "cell_type": "code",
     "collapsed": false,
     "input": [
      "def msd(result):\n",
      "    A = result.get_species(\"A\")\n",
      "    \n",
      "    p = result.model.mesh.get_normalized_coordinates()\n",
      "    \n",
      "    dims = numpy.shape(A)\n",
      "    msd = numpy.zeros((1,dims[0]))\n",
      "    \n",
      "    dist = numpy.linalg.norm(p,ord=2,axis=1)\n",
      "    dist = numpy.power(dist,2)\n",
      "    \n",
      "    for time in range(dims[0]):\n",
      "        msd[0,time]=numpy.dot(dist,A[time,:])/numpy.sum(A[time, :])\n",
      "    \n",
      "    msd[0,0] = 0\n",
      "    return msd\n"
     ],
     "language": "python",
     "metadata": {},
     "outputs": []
    },
    {
     "cell_type": "code",
     "collapsed": false,
     "input": [
      "model = normal_diffusion(rho=0.6)\n",
      "import nemsolver\n",
      "solver2 = nemsolver.NEMSolver(model, solver_path=\"/Users/andreash/bitbucket/nllattice/\")\n",
      "from pyurdme import nsmsolver\n",
      "solver = nsmsolver.NSMSolver(model) \n",
      "result = solver2.run()\n",
      "msd(result)[0][-1]\n",
      "result.display_particles([\"A\",\"B\"],0)"
     ],
     "language": "python",
     "metadata": {},
     "outputs": []
    },
    {
     "cell_type": "code",
     "collapsed": false,
     "input": [
      "N = 100\n",
      "for i in xrange(N):\n",
      "    try:\n",
      "        m = m+msd(solver.run())\n",
      "    except:\n",
      "        m = msd(solver.run())\n",
      "    #print i    \n",
      "m = m/N"
     ],
     "language": "python",
     "metadata": {},
     "outputs": []
    },
    {
     "cell_type": "code",
     "collapsed": false,
     "input": [
      "import nemsolver\n",
      "model = normal_diffusion(rho=0.1)\n",
      "\n",
      "solver2 = nemsolver.NEMSolver(model, solver_path=\"/Users/andreash/bitbucket/nllattice/\")\n",
      "import time\n",
      "solver2.run()\n",
      "tic = time.time() \n",
      "for i in xrange(10):\n",
      "    solver2.run()\n",
      "print (time.time()-tic)/10"
     ],
     "language": "python",
     "metadata": {},
     "outputs": []
    },
    {
     "cell_type": "code",
     "collapsed": false,
     "input": [
      "import nemsolver\n",
      "model = normal_diffusion(rho=0.1)\n",
      "solver2 = nemsolver.NEMSolver(model, solver_path=\"/Users/andreash/bitbucket/nllattice/\")\n",
      "import time\n",
      "tic = time.time() \n",
      "N = 100\n",
      "for i in xrange(N):\n",
      "    if i==0:\n",
      "        m2 = msd(solver2.run())\n",
      "    else:\n",
      "        m2 = m2+msd(solver2.run())\n",
      "    print i    \n",
      "m2 = m2/N"
     ],
     "language": "python",
     "metadata": {},
     "outputs": [
      {
       "output_type": "stream",
       "stream": "stdout",
       "text": [
        "34.4709550405\n",
        "0\n",
        "1\n",
        "2\n",
        "3\n",
        "4\n",
        "5\n",
        "6\n",
        "7\n",
        "8\n",
        "9\n",
        "10\n",
        "11\n",
        "12\n",
        "13\n",
        "14\n",
        "15\n",
        "16\n",
        "17\n",
        "18\n",
        "19\n",
        "20\n",
        "21\n",
        "22\n",
        "23\n",
        "24\n",
        "25\n",
        "26\n",
        "27\n",
        "28\n",
        "29\n",
        "30\n",
        "31\n",
        "32\n",
        "33\n",
        "34\n",
        "35\n",
        "36\n",
        "37\n",
        "38\n",
        "39\n",
        "40\n",
        "41\n",
        "42\n",
        "43\n",
        "44\n",
        "45\n",
        "46\n",
        "47\n",
        "48\n",
        "49\n",
        "50\n",
        "51\n",
        "52\n",
        "53\n",
        "54\n",
        "55\n",
        "56\n",
        "57\n",
        "58\n",
        "59\n",
        "60\n",
        "61\n",
        "62\n",
        "63\n",
        "64\n",
        "65\n",
        "66\n",
        "67\n",
        "68\n",
        "69\n",
        "70\n",
        "71\n",
        "72\n",
        "73\n",
        "74\n",
        "75\n",
        "76\n",
        "77\n",
        "78\n",
        "79\n",
        "80\n",
        "81\n",
        "82\n",
        "83\n",
        "84\n",
        "85\n",
        "86\n",
        "87\n",
        "88\n",
        "89\n",
        "90\n",
        "91\n",
        "92\n",
        "93\n",
        "94\n",
        "95\n",
        "96\n",
        "97\n",
        "98\n",
        "99\n"
       ]
      }
     ],
     "prompt_number": 14
    },
    {
     "cell_type": "code",
     "collapsed": false,
     "input": [
      "%pylab inline\n",
      "\n",
      "import pickle\n",
      "import numpy\n",
      "f = open('tempfile')\n",
      "dat = pickle.load(f)\n",
      "print numpy.size(numpy.mean(dat, axis=0))\n",
      "f.close()\n",
      "import matplotlib.pyplot as plt\n",
      "#plt.plot(numpy.linspace(0,10,101),numpy.mean(dat, axis=0),label=\"RBD\")\n",
      "\n",
      "\n",
      "#plt.plot(model.tspan, m[0],label=\"NSM\")\n",
      "plt.plot(model.tspan, m2[0],label=\"NEM\")\n",
      "plt.legend(loc=4)\n",
      "plt.xlabel(\"Time [s]\")\n",
      "plt.ylabel(\"MSD\")\n",
      "\n",
      "from scipy import stats\n",
      "start =1\n",
      "stop = 500\n",
      "msd2 = m2[0]\n",
      "tspan=model.tspan\n",
      "alpha2 = stats.linregress(tspan[start:stop:],msd2[start:stop:])\n",
      "\n",
      "print \"NEM: alpha: \", alpha2[0], \"Effective diffusion constant:\", alpha2[0]/6\n",
      "plt.title(\"Effective diffusion constant: {0}\".format(alpha2[0]/6))"
     ],
     "language": "python",
     "metadata": {},
     "outputs": [
      {
       "output_type": "stream",
       "stream": "stdout",
       "text": [
        "Populating the interactive namespace from numpy and matplotlib\n",
        "101\n",
        "NEM: alpha:  1.43962889933 Effective diffusion constant: 0.239938149889\n"
       ]
      },
      {
       "output_type": "stream",
       "stream": "stderr",
       "text": [
        "WARNING: pylab import has clobbered these variables: ['f']\n",
        "`%matplotlib` prevents importing * from pylab and numpy\n"
       ]
      },
      {
       "metadata": {},
       "output_type": "pyout",
       "prompt_number": 16,
       "text": [
        "<matplotlib.text.Text at 0x112f005d0>"
       ]
      },
      {
       "metadata": {},
       "output_type": "display_data",
       "png": "[encoded data removed]",
       "text": [
        "<matplotlib.figure.Figure at 0x112b15c10>"
       ]
      }
     ],
     "prompt_number": 16
    },
    {
     "cell_type": "code",
     "collapsed": false,
     "input": [],
     "language": "python",
     "metadata": {},
     "outputs": []
    }
   ],
   "metadata": {}
  }
 ]
}